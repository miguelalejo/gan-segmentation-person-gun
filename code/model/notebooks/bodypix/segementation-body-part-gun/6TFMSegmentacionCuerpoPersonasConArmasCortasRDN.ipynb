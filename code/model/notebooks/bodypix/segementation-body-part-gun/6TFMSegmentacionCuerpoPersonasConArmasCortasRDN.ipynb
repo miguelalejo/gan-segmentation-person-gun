{
  "cells": [
    {
      "cell_type": "markdown",
      "metadata": {
        "id": "GD9gUQpaBxNa"
      },
      "source": [
        "---\n",
        "* **Universidad:** UOC (Universitat Oberta de Catalunya)\n",
        "* **Titulación:** Master Ciencia de Datos/TFM\n",
        "* **Título:** Segmentación de imágenes utilizando Redes Generativas Antagónicas\n",
        "* **Actividad**: Segmentación partes cuerpo personas con armas cortas utilizando modelos pre entrenados\n",
        "* **Autor:** Miguel Ponce\n",
        "* **Correo:** miguelalejoponce@uoc.edu\n",
        "* **Fecha:** \"Enero, 04 de 2023\"\n",
        "* **Salida**: ipynb\n",
        "---\n",
        "## Contexto: Detección de personas\n",
        "\n",
        "* **Contexto:**\n",
        "Se desea segmentar las personas y armas cortas con los modelos pre entrenados.\n",
        "\n",
        "* **Problema:** \n",
        "Es necesrio realizar la segmentación de las personas armadas con armas cortas, para tener un conjunto de imagenes que luego serán procesadas para ser utilizadas como conjunto de datos para la red GAN.\n",
        "\n",
        "* **Solucion :** \n",
        "Se utilizara los modelos pre entrenados de las etapas anteriores para generar un nuevo conjunto de datos. Para esto se hara uso de los conjuntos de datos tratado con super pixeles ESRGAN y RDN.\n",
        "* **Entorno:** con GPU.\n",
        "  \n",
        "\n",
        "## Origen del la fuente de datos\n",
        "* **ESRGAN:**\n",
        "https://github.com/miguelalejo/gan-segmentation-person-gun/blob/main/data/raw/super-resolution-esrgan-personas-armadas.tar.gz\n",
        "\n",
        "* **RDN:** https://github.com/miguelalejo/gan-segmentation-person-gun/blob/main/data/raw/super-resolution-rdn.tar.gz\n",
        "\n",
        "## Modelos pre entrenados\n",
        "* **DETECCIÓN ARMA:**\n",
        "https://drive.google.com/file/d/1xAbxae-WI2uiTPUOZvakSNhvbkNBc2sT/view\n",
        "\n",
        "* **SEGMENTACIÓN ARMA:** https://drive.google.com/file/d/1UYza-1NeyJ1SrD94_Kewh9lSb_zOURob/view\n",
        "\n",
        "* **SEGMENTACIÓN PERSONA:** https://github.com/de-code/python-tf-bodypix"
      ]
    },
    {
      "cell_type": "markdown",
      "source": [
        "# Descarga conjunto de datos"
      ],
      "metadata": {
        "id": "943Dpi9y8n57"
      }
    },
    {
      "cell_type": "code",
      "source": [
        "!wget https://media.githubusercontent.com/media/miguelalejo/gan-segmentation-person-gun/main/data/raw/super-resolution-rdn.tar.gz  -O super-resolution-rdn.tar.gz \n",
        "!wget https://media.githubusercontent.com/media/miguelalejo/gan-segmentation-person-gun/main/data/raw/super-resolution-esrgan-personas-armadas.tar.gz -O super-resolution-esrgan-personas-armadas.tar.gz\n"
      ],
      "metadata": {
        "id": "fO3SCA3k8pjk",
        "colab": {
          "base_uri": "https://localhost:8080/"
        },
        "outputId": "692db47f-1789-4e32-de6a-77bc14745278"
      },
      "execution_count": null,
      "outputs": [
        {
          "output_type": "stream",
          "name": "stdout",
          "text": [
            "--2023-01-05 13:33:03--  https://media.githubusercontent.com/media/miguelalejo/gan-segmentation-person-gun/main/data/raw/super-resolution-rdn.tar.gz\n",
            "Resolving media.githubusercontent.com (media.githubusercontent.com)... 185.199.108.133, 185.199.109.133, 185.199.110.133, ...\n",
            "Connecting to media.githubusercontent.com (media.githubusercontent.com)|185.199.108.133|:443... connected.\n",
            "HTTP request sent, awaiting response... 200 OK\n",
            "Length: 74354007 (71M) [application/octet-stream]\n",
            "Saving to: ‘super-resolution-rdn.tar.gz’\n",
            "\n",
            "super-resolution-rd 100%[===================>]  70.91M   226MB/s    in 0.3s    \n",
            "\n",
            "2023-01-05 13:33:05 (226 MB/s) - ‘super-resolution-rdn.tar.gz’ saved [74354007/74354007]\n",
            "\n",
            "--2023-01-05 13:33:05--  https://media.githubusercontent.com/media/miguelalejo/gan-segmentation-person-gun/main/data/raw/super-resolution-esrgan-personas-armadas.tar.gz\n",
            "Resolving media.githubusercontent.com (media.githubusercontent.com)... 185.199.108.133, 185.199.109.133, 185.199.110.133, ...\n",
            "Connecting to media.githubusercontent.com (media.githubusercontent.com)|185.199.108.133|:443... connected.\n",
            "HTTP request sent, awaiting response... 200 OK\n",
            "Length: 170277957 (162M) [application/octet-stream]\n",
            "Saving to: ‘super-resolution-esrgan-personas-armadas.tar.gz’\n",
            "\n",
            "super-resolution-es 100%[===================>] 162.39M   154MB/s    in 1.1s    \n",
            "\n",
            "2023-01-05 13:33:09 (154 MB/s) - ‘super-resolution-esrgan-personas-armadas.tar.gz’ saved [170277957/170277957]\n",
            "\n"
          ]
        }
      ]
    },
    {
      "cell_type": "code",
      "source": [
        "!tar -xf super-resolution-rdn.tar.gz\n",
        "!tar -xf super-resolution-esrgan-personas-armadas.tar.gz"
      ],
      "metadata": {
        "id": "5Yzqot_T82BF"
      },
      "execution_count": null,
      "outputs": []
    },
    {
      "cell_type": "markdown",
      "source": [
        "# Deteccion Armas Cortas"
      ],
      "metadata": {
        "id": "pqwVnXzr1kB8"
      }
    },
    {
      "cell_type": "markdown",
      "metadata": {
        "id": "7mGmQbAO5pQb"
      },
      "source": [
        "## Instalar requisitos\n",
        "\n",
        "_(Recuerde elegir GPU en tiempo de ejecución si aún no lo ha seleccionado. Tiempo de ejecución --> Cambiar tipo de tiempo de ejecución --> Acelerador de hardware --> GPU)_"
      ]
    },
    {
      "cell_type": "code",
      "source": [
        "!python -m pip install 'git+https://github.com/facebookresearch/detectron2.git'"
      ],
      "metadata": {
        "id": "aLde9SojZxvn",
        "colab": {
          "base_uri": "https://localhost:8080/"
        },
        "outputId": "bc6300ec-c6cd-44d3-8994-59a189c53124"
      },
      "execution_count": null,
      "outputs": [
        {
          "output_type": "stream",
          "name": "stdout",
          "text": [
            "Looking in indexes: https://pypi.org/simple, https://us-python.pkg.dev/colab-wheels/public/simple/\n",
            "Collecting git+https://github.com/facebookresearch/detectron2.git\n",
            "  Cloning https://github.com/facebookresearch/detectron2.git to /tmp/pip-req-build-gc0zrmqf\n",
            "  Running command git clone --filter=blob:none --quiet https://github.com/facebookresearch/detectron2.git /tmp/pip-req-build-gc0zrmqf\n",
            "  Resolved https://github.com/facebookresearch/detectron2.git to commit 06f2892d2c3125deb207fc61f52484a428d67add\n",
            "  Preparing metadata (setup.py) ... \u001b[?25l\u001b[?25hdone\n",
            "Requirement already satisfied: Pillow>=7.1 in /usr/local/lib/python3.8/dist-packages (from detectron2==0.6) (7.1.2)\n",
            "Requirement already satisfied: matplotlib in /usr/local/lib/python3.8/dist-packages (from detectron2==0.6) (3.2.2)\n",
            "Requirement already satisfied: pycocotools>=2.0.2 in /usr/local/lib/python3.8/dist-packages (from detectron2==0.6) (2.0.6)\n",
            "Requirement already satisfied: termcolor>=1.1 in /usr/local/lib/python3.8/dist-packages (from detectron2==0.6) (2.1.1)\n",
            "Collecting yacs>=0.1.8\n",
            "  Downloading yacs-0.1.8-py3-none-any.whl (14 kB)\n",
            "Requirement already satisfied: tabulate in /usr/local/lib/python3.8/dist-packages (from detectron2==0.6) (0.8.10)\n",
            "Requirement already satisfied: cloudpickle in /usr/local/lib/python3.8/dist-packages (from detectron2==0.6) (1.5.0)\n",
            "Requirement already satisfied: tqdm>4.29.0 in /usr/local/lib/python3.8/dist-packages (from detectron2==0.6) (4.64.1)\n",
            "Requirement already satisfied: tensorboard in /usr/local/lib/python3.8/dist-packages (from detectron2==0.6) (2.9.1)\n",
            "Collecting fvcore<0.1.6,>=0.1.5\n",
            "  Downloading fvcore-0.1.5.post20221221.tar.gz (50 kB)\n",
            "\u001b[2K     \u001b[90m━━━━━━━━━━━━━━━━━━━━━━━━━━━━━━━━━━━━━━━━\u001b[0m \u001b[32m50.2/50.2 KB\u001b[0m \u001b[31m3.1 MB/s\u001b[0m eta \u001b[36m0:00:00\u001b[0m\n",
            "\u001b[?25h  Preparing metadata (setup.py) ... \u001b[?25l\u001b[?25hdone\n",
            "Collecting iopath<0.1.10,>=0.1.7\n",
            "  Downloading iopath-0.1.9-py3-none-any.whl (27 kB)\n",
            "Collecting omegaconf>=2.1\n",
            "  Downloading omegaconf-2.3.0-py3-none-any.whl (79 kB)\n",
            "\u001b[2K     \u001b[90m━━━━━━━━━━━━━━━━━━━━━━━━━━━━━━━━━━━━━━━━\u001b[0m \u001b[32m79.5/79.5 KB\u001b[0m \u001b[31m10.7 MB/s\u001b[0m eta \u001b[36m0:00:00\u001b[0m\n",
            "\u001b[?25hCollecting hydra-core>=1.1\n",
            "  Downloading hydra_core-1.3.1-py3-none-any.whl (154 kB)\n",
            "\u001b[2K     \u001b[90m━━━━━━━━━━━━━━━━━━━━━━━━━━━━━━━━━━━━━━\u001b[0m \u001b[32m154.1/154.1 KB\u001b[0m \u001b[31m17.0 MB/s\u001b[0m eta \u001b[36m0:00:00\u001b[0m\n",
            "\u001b[?25hCollecting black\n",
            "  Downloading black-22.12.0-cp38-cp38-manylinux_2_17_x86_64.manylinux2014_x86_64.whl (1.5 MB)\n",
            "\u001b[2K     \u001b[90m━━━━━━━━━━━━━━━━━━━━━━━━━━━━━━━━━━━━━━━━\u001b[0m \u001b[32m1.5/1.5 MB\u001b[0m \u001b[31m2.3 MB/s\u001b[0m eta \u001b[36m0:00:00\u001b[0m\n",
            "\u001b[?25hCollecting timm\n",
            "  Downloading timm-0.6.12-py3-none-any.whl (549 kB)\n",
            "\u001b[2K     \u001b[90m━━━━━━━━━━━━━━━━━━━━━━━━━━━━━━━━━━━━━━━\u001b[0m \u001b[32m549.1/549.1 KB\u001b[0m \u001b[31m5.1 MB/s\u001b[0m eta \u001b[36m0:00:00\u001b[0m\n",
            "\u001b[?25hRequirement already satisfied: packaging in /usr/local/lib/python3.8/dist-packages (from detectron2==0.6) (21.3)\n",
            "Requirement already satisfied: numpy in /usr/local/lib/python3.8/dist-packages (from fvcore<0.1.6,>=0.1.5->detectron2==0.6) (1.21.6)\n",
            "Requirement already satisfied: pyyaml>=5.1 in /usr/local/lib/python3.8/dist-packages (from fvcore<0.1.6,>=0.1.5->detectron2==0.6) (6.0)\n",
            "Collecting antlr4-python3-runtime==4.9.*\n",
            "  Downloading antlr4-python3-runtime-4.9.3.tar.gz (117 kB)\n",
            "\u001b[2K     \u001b[90m━━━━━━━━━━━━━━━━━━━━━━━━━━━━━━━━━━━━━━━\u001b[0m \u001b[32m117.0/117.0 KB\u001b[0m \u001b[31m5.9 MB/s\u001b[0m eta \u001b[36m0:00:00\u001b[0m\n",
            "\u001b[?25h  Preparing metadata (setup.py) ... \u001b[?25l\u001b[?25hdone\n",
            "Requirement already satisfied: importlib-resources in /usr/local/lib/python3.8/dist-packages (from hydra-core>=1.1->detectron2==0.6) (5.10.1)\n",
            "Collecting portalocker\n",
            "  Downloading portalocker-2.6.0-py2.py3-none-any.whl (15 kB)\n",
            "Requirement already satisfied: kiwisolver>=1.0.1 in /usr/local/lib/python3.8/dist-packages (from matplotlib->detectron2==0.6) (1.4.4)\n",
            "Requirement already satisfied: pyparsing!=2.0.4,!=2.1.2,!=2.1.6,>=2.0.1 in /usr/local/lib/python3.8/dist-packages (from matplotlib->detectron2==0.6) (3.0.9)\n",
            "Requirement already satisfied: cycler>=0.10 in /usr/local/lib/python3.8/dist-packages (from matplotlib->detectron2==0.6) (0.11.0)\n",
            "Requirement already satisfied: python-dateutil>=2.1 in /usr/local/lib/python3.8/dist-packages (from matplotlib->detectron2==0.6) (2.8.2)\n",
            "Requirement already satisfied: tomli>=1.1.0 in /usr/local/lib/python3.8/dist-packages (from black->detectron2==0.6) (2.0.1)\n",
            "Collecting pathspec>=0.9.0\n",
            "  Downloading pathspec-0.10.3-py3-none-any.whl (29 kB)\n",
            "Requirement already satisfied: platformdirs>=2 in /usr/local/lib/python3.8/dist-packages (from black->detectron2==0.6) (2.6.0)\n",
            "Requirement already satisfied: typing-extensions>=3.10.0.0 in /usr/local/lib/python3.8/dist-packages (from black->detectron2==0.6) (4.4.0)\n",
            "Collecting click>=8.0.0\n",
            "  Downloading click-8.1.3-py3-none-any.whl (96 kB)\n",
            "\u001b[2K     \u001b[90m━━━━━━━━━━━━━━━━━━━━━━━━━━━━━━━━━━━━━━━━\u001b[0m \u001b[32m96.6/96.6 KB\u001b[0m \u001b[31m6.0 MB/s\u001b[0m eta \u001b[36m0:00:00\u001b[0m\n",
            "\u001b[?25hCollecting mypy-extensions>=0.4.3\n",
            "  Downloading mypy_extensions-0.4.3-py2.py3-none-any.whl (4.5 kB)\n",
            "Requirement already satisfied: google-auth<3,>=1.6.3 in /usr/local/lib/python3.8/dist-packages (from tensorboard->detectron2==0.6) (2.15.0)\n",
            "Requirement already satisfied: markdown>=2.6.8 in /usr/local/lib/python3.8/dist-packages (from tensorboard->detectron2==0.6) (3.4.1)\n",
            "Requirement already satisfied: wheel>=0.26 in /usr/local/lib/python3.8/dist-packages (from tensorboard->detectron2==0.6) (0.38.4)\n",
            "Requirement already satisfied: absl-py>=0.4 in /usr/local/lib/python3.8/dist-packages (from tensorboard->detectron2==0.6) (1.3.0)\n",
            "Requirement already satisfied: protobuf<3.20,>=3.9.2 in /usr/local/lib/python3.8/dist-packages (from tensorboard->detectron2==0.6) (3.19.6)\n",
            "Requirement already satisfied: google-auth-oauthlib<0.5,>=0.4.1 in /usr/local/lib/python3.8/dist-packages (from tensorboard->detectron2==0.6) (0.4.6)\n",
            "Requirement already satisfied: setuptools>=41.0.0 in /usr/local/lib/python3.8/dist-packages (from tensorboard->detectron2==0.6) (57.4.0)\n",
            "Requirement already satisfied: grpcio>=1.24.3 in /usr/local/lib/python3.8/dist-packages (from tensorboard->detectron2==0.6) (1.51.1)\n",
            "Requirement already satisfied: werkzeug>=1.0.1 in /usr/local/lib/python3.8/dist-packages (from tensorboard->detectron2==0.6) (1.0.1)\n",
            "Requirement already satisfied: requests<3,>=2.21.0 in /usr/local/lib/python3.8/dist-packages (from tensorboard->detectron2==0.6) (2.25.1)\n",
            "Requirement already satisfied: tensorboard-data-server<0.7.0,>=0.6.0 in /usr/local/lib/python3.8/dist-packages (from tensorboard->detectron2==0.6) (0.6.1)\n",
            "Requirement already satisfied: tensorboard-plugin-wit>=1.6.0 in /usr/local/lib/python3.8/dist-packages (from tensorboard->detectron2==0.6) (1.8.1)\n",
            "Requirement already satisfied: torch>=1.7 in /usr/local/lib/python3.8/dist-packages (from timm->detectron2==0.6) (1.13.0+cu116)\n",
            "Collecting huggingface-hub\n",
            "  Downloading huggingface_hub-0.11.1-py3-none-any.whl (182 kB)\n",
            "\u001b[2K     \u001b[90m━━━━━━━━━━━━━━━━━━━━━━━━━━━━━━━━━━━━━━━\u001b[0m \u001b[32m182.4/182.4 KB\u001b[0m \u001b[31m6.9 MB/s\u001b[0m eta \u001b[36m0:00:00\u001b[0m\n",
            "\u001b[?25hRequirement already satisfied: torchvision in /usr/local/lib/python3.8/dist-packages (from timm->detectron2==0.6) (0.14.0+cu116)\n",
            "Requirement already satisfied: cachetools<6.0,>=2.0.0 in /usr/local/lib/python3.8/dist-packages (from google-auth<3,>=1.6.3->tensorboard->detectron2==0.6) (5.2.0)\n",
            "Requirement already satisfied: pyasn1-modules>=0.2.1 in /usr/local/lib/python3.8/dist-packages (from google-auth<3,>=1.6.3->tensorboard->detectron2==0.6) (0.2.8)\n",
            "Requirement already satisfied: rsa<5,>=3.1.4 in /usr/local/lib/python3.8/dist-packages (from google-auth<3,>=1.6.3->tensorboard->detectron2==0.6) (4.9)\n",
            "Requirement already satisfied: six>=1.9.0 in /usr/local/lib/python3.8/dist-packages (from google-auth<3,>=1.6.3->tensorboard->detectron2==0.6) (1.15.0)\n",
            "Requirement already satisfied: requests-oauthlib>=0.7.0 in /usr/local/lib/python3.8/dist-packages (from google-auth-oauthlib<0.5,>=0.4.1->tensorboard->detectron2==0.6) (1.3.1)\n",
            "Requirement already satisfied: importlib-metadata>=4.4 in /usr/local/lib/python3.8/dist-packages (from markdown>=2.6.8->tensorboard->detectron2==0.6) (5.2.0)\n",
            "Requirement already satisfied: chardet<5,>=3.0.2 in /usr/local/lib/python3.8/dist-packages (from requests<3,>=2.21.0->tensorboard->detectron2==0.6) (4.0.0)\n",
            "Requirement already satisfied: certifi>=2017.4.17 in /usr/local/lib/python3.8/dist-packages (from requests<3,>=2.21.0->tensorboard->detectron2==0.6) (2022.12.7)\n",
            "Requirement already satisfied: idna<3,>=2.5 in /usr/local/lib/python3.8/dist-packages (from requests<3,>=2.21.0->tensorboard->detectron2==0.6) (2.10)\n",
            "Requirement already satisfied: urllib3<1.27,>=1.21.1 in /usr/local/lib/python3.8/dist-packages (from requests<3,>=2.21.0->tensorboard->detectron2==0.6) (1.24.3)\n",
            "Requirement already satisfied: filelock in /usr/local/lib/python3.8/dist-packages (from huggingface-hub->timm->detectron2==0.6) (3.8.2)\n",
            "Requirement already satisfied: zipp>=3.1.0 in /usr/local/lib/python3.8/dist-packages (from importlib-resources->hydra-core>=1.1->detectron2==0.6) (3.11.0)\n",
            "Requirement already satisfied: pyasn1<0.5.0,>=0.4.6 in /usr/local/lib/python3.8/dist-packages (from pyasn1-modules>=0.2.1->google-auth<3,>=1.6.3->tensorboard->detectron2==0.6) (0.4.8)\n",
            "Requirement already satisfied: oauthlib>=3.0.0 in /usr/local/lib/python3.8/dist-packages (from requests-oauthlib>=0.7.0->google-auth-oauthlib<0.5,>=0.4.1->tensorboard->detectron2==0.6) (3.2.2)\n",
            "Building wheels for collected packages: detectron2, fvcore, antlr4-python3-runtime\n",
            "  Building wheel for detectron2 (setup.py) ... \u001b[?25l\u001b[?25hdone\n",
            "  Created wheel for detectron2: filename=detectron2-0.6-cp38-cp38-linux_x86_64.whl size=5461946 sha256=0db2394fae4ad3c644177f9935da5b91bbe7edae2418ca6cb72273388a602eb1\n",
            "  Stored in directory: /tmp/pip-ephem-wheel-cache-vo3hoho1/wheels/19/ac/65/e48e5e4ec2702274d927c5a6efb75709b24014371d3bb778f2\n",
            "  Building wheel for fvcore (setup.py) ... \u001b[?25l\u001b[?25hdone\n",
            "  Created wheel for fvcore: filename=fvcore-0.1.5.post20221221-py3-none-any.whl size=61431 sha256=8a0356e14afac5e6676fb95af53f7e8675e4a47b1775f840690502e73f8ae5d9\n",
            "  Stored in directory: /root/.cache/pip/wheels/b8/79/07/c0e9367f5b5ea325e246bd73651e8af175fabbef943043b1cc\n",
            "  Building wheel for antlr4-python3-runtime (setup.py) ... \u001b[?25l\u001b[?25hdone\n",
            "  Created wheel for antlr4-python3-runtime: filename=antlr4_python3_runtime-4.9.3-py3-none-any.whl size=144575 sha256=691baa6ce5109c3f825cae57c0a93ffec7827cbf93eddecb12e0ac2c6f2b2613\n",
            "  Stored in directory: /root/.cache/pip/wheels/b1/a3/c2/6df046c09459b73cc9bb6c4401b0be6c47048baf9a1617c485\n",
            "Successfully built detectron2 fvcore antlr4-python3-runtime\n",
            "Installing collected packages: mypy-extensions, antlr4-python3-runtime, yacs, portalocker, pathspec, omegaconf, click, iopath, hydra-core, huggingface-hub, black, timm, fvcore, detectron2\n",
            "  Attempting uninstall: click\n",
            "    Found existing installation: click 7.1.2\n",
            "    Uninstalling click-7.1.2:\n",
            "      Successfully uninstalled click-7.1.2\n",
            "\u001b[31mERROR: pip's dependency resolver does not currently take into account all the packages that are installed. This behaviour is the source of the following dependency conflicts.\n",
            "flask 1.1.4 requires click<8.0,>=5.1, but you have click 8.1.3 which is incompatible.\u001b[0m\u001b[31m\n",
            "\u001b[0mSuccessfully installed antlr4-python3-runtime-4.9.3 black-22.12.0 click-8.1.3 detectron2-0.6 fvcore-0.1.5.post20221221 huggingface-hub-0.11.1 hydra-core-1.3.1 iopath-0.1.9 mypy-extensions-0.4.3 omegaconf-2.3.0 pathspec-0.10.3 portalocker-2.6.0 timm-0.6.12 yacs-0.1.8\n"
          ]
        }
      ]
    },
    {
      "cell_type": "markdown",
      "metadata": {
        "id": "mtJ24mPlyF-S"
      },
      "source": [
        "## Importar Librerias\n",
        "\n"
      ]
    },
    {
      "cell_type": "code",
      "execution_count": null,
      "metadata": {
        "id": "ovKgrVN8ygdW"
      },
      "outputs": [],
      "source": [
        "import os\n",
        "import glob\n",
        "import time\n",
        "import torch\n",
        "from pathlib import Path\n",
        "from PIL import Image\n",
        "\n",
        "from matplotlib import pyplot as plt\n",
        "import numpy as np\n",
        "import tensorflow as tf\n",
        "\n",
        "import tensorflow_hub as hub\n",
        "import logging\n",
        "import torch\n",
        "from collections import OrderedDict\n",
        "import detectron2\n",
        "from detectron2.utils.logger import setup_logger\n",
        "setup_logger()\n",
        "\n",
        "# import some common libraries\n",
        "import numpy as np\n",
        "import os, json, cv2, random\n",
        "# import some common detectron2 utilities\n",
        "from detectron2 import model_zoo\n",
        "from detectron2.engine import DefaultPredictor\n",
        "from detectron2.config import get_cfg\n",
        "from detectron2.utils.visualizer import Visualizer\n",
        "from detectron2.data import MetadataCatalog, DatasetCatalog\n",
        "from detectron2.data.datasets import register_coco_instances\n",
        "from detectron2.engine import DefaultTrainer\n",
        "from detectron2.utils.visualizer import ColorMode\n",
        "from detectron2.solver import build_lr_scheduler, build_optimizer\n",
        "from detectron2.checkpoint import DetectionCheckpointer, PeriodicCheckpointer\n",
        "from detectron2.utils.events import EventStorage\n",
        "from detectron2.modeling import build_model\n",
        "import detectron2.utils.comm as comm\n",
        "from detectron2.engine import default_argument_parser, default_setup, default_writers, launch\n",
        "from detectron2.data import (\n",
        "    MetadataCatalog,\n",
        "    build_detection_test_loader,\n",
        "    build_detection_train_loader,\n",
        ")\n",
        "from detectron2.evaluation import (\n",
        "    CityscapesInstanceEvaluator,\n",
        "    CityscapesSemSegEvaluator,\n",
        "    COCOEvaluator,\n",
        "    COCOPanopticEvaluator,\n",
        "    DatasetEvaluators,\n",
        "    LVISEvaluator,\n",
        "    PascalVOCDetectionEvaluator,\n",
        "    SemSegEvaluator,\n",
        "    inference_on_dataset,\n",
        "    print_csv_format,\n",
        ")"
      ]
    },
    {
      "cell_type": "markdown",
      "source": [
        "## Mostrar caracteristicas del entorno"
      ],
      "metadata": {
        "id": "CqRoPGCpAs2s"
      }
    },
    {
      "cell_type": "code",
      "source": [
        "!nvcc --version\n",
        "TORCH_VERSION = \".\".join(torch.__version__.split(\".\")[:2])\n",
        "CUDA_VERSION = torch.__version__.split(\"+\")[-1]\n",
        "print(\"torch: \", TORCH_VERSION, \"; cuda: \", CUDA_VERSION)\n",
        "print(\"detectron2:\", detectron2.__version__)"
      ],
      "metadata": {
        "id": "-KhSZkUXAtHL",
        "colab": {
          "base_uri": "https://localhost:8080/"
        },
        "outputId": "8e739355-c8b1-40b9-bbf3-c21974669c3a"
      },
      "execution_count": null,
      "outputs": [
        {
          "output_type": "stream",
          "name": "stdout",
          "text": [
            "nvcc: NVIDIA (R) Cuda compiler driver\n",
            "Copyright (c) 2005-2021 NVIDIA Corporation\n",
            "Built on Sun_Feb_14_21:12:58_PST_2021\n",
            "Cuda compilation tools, release 11.2, V11.2.152\n",
            "Build cuda_11.2.r11.2/compiler.29618528_0\n",
            "torch:  1.13 ; cuda:  cu116\n",
            "detectron2: 0.6\n"
          ]
        }
      ]
    },
    {
      "cell_type": "markdown",
      "metadata": {
        "id": "u3KFJooNG89o"
      },
      "source": [
        "## Constantes"
      ]
    },
    {
      "cell_type": "code",
      "execution_count": null,
      "metadata": {
        "id": "eTKiFrACG-F2"
      },
      "outputs": [],
      "source": [
        "# Declaring Constants\n",
        "os.environ[\"TFHUB_DOWNLOAD_PROGRESS\"] = \"True\"\n",
        "TEST_MODE = True\n",
        "MAX_IMAGES = 30\n",
        "mainPath = \"./\""
      ]
    },
    {
      "cell_type": "markdown",
      "source": [
        "## Clases\n"
      ],
      "metadata": {
        "id": "xRgWEZ3mCMwK"
      }
    },
    {
      "cell_type": "code",
      "source": [
        "class DetectImage:\n",
        "  def __init__(self,sourcePath,outputPath,config,modelName,threshold) -> None:\n",
        "    self.cfg = config\n",
        "    print(os.path.join(self.cfg.OUTPUT_DIR, modelName))\n",
        "    self.cfg.MODEL.WEIGHTS = os.path.join(self.cfg.OUTPUT_DIR, modelName)\n",
        "    self.cfg.MODEL.ROI_HEADS.SCORE_THRESH_TEST = threshold\n",
        "    self.predictor = DefaultPredictor(self.cfg)\n",
        "    self.sourcePath = sourcePath\n",
        "    self.outputPath = outputPath\n",
        "\n",
        "  def crop_object(self,imagePath):\n",
        "    \"\"\"Crops an object in an image\n",
        "\n",
        "    Inputs:\n",
        "      image: PIL image\n",
        "      box: one box from Detectron2 pred_boxes\n",
        "    \"\"\"  \n",
        "    image = Image.open(imagePath)\n",
        "    im = cv2.imread(imagePath)\n",
        "    outputs = self.predictor(im)\n",
        "    boxes = outputs[\"instances\"].pred_boxes\n",
        "    # Select 1 box:    \n",
        "    if list(boxes):\n",
        "      #print(imagePath)\n",
        "      #print(boxes,\"boxes\")\n",
        "      box = list(boxes)[0].detach().cpu().numpy()         \n",
        "      x_top_left = box[0]\n",
        "      y_top_left = box[1]\n",
        "      x_bottom_right = box[2]\n",
        "      y_bottom_right = box[3]\n",
        "      x_center = (x_top_left + x_bottom_right) / 2\n",
        "      y_center = (y_top_left + y_bottom_right) / 2\n",
        "      crop_img = image.crop((int(x_top_left), int(y_top_left), int(x_bottom_right), int(y_bottom_right)))\n",
        "      #plt.figure()\n",
        "      #plt.axis('off')\n",
        "      #plt.imshow(crop_img) \n",
        "      #plt.show() \n",
        "      return True,crop_img,box\n",
        "    else:\n",
        "      return False,None,None\n",
        "\n",
        "  def saveBox(self,box,boxPath):\n",
        "    with open(boxPath, \"w\") as f:\n",
        "      for s in box:\n",
        "        f.write(str(s) +\"\\n\")\n",
        "  def readBox(self,boxPath):\n",
        "    values = []\n",
        "    with open(boxPath, \"r\") as f:\n",
        "      for line in f:\n",
        "        values.append(float(line.strip()))\n",
        "    return values\n",
        "   \n",
        "  \n",
        "  def processImages(self):       \n",
        "    path = self.sourcePath+\"/*.jpg\"\n",
        "    print(path)\n",
        "    images = glob.glob(path)\n",
        "    index = 0\n",
        "    start = time.time()\n",
        "    for imagePath in images:\n",
        "      if TEST_MODE:\n",
        "        if index == MAX_IMAGES:         \n",
        "          break\n",
        "        index = index + 1             \n",
        "      hasBox,crop_img,box = self.crop_object(imagePath)\n",
        "      if hasBox:\n",
        "        imageName = os.path.basename(imagePath)\n",
        "        print(imageName)\n",
        "        name = Path(imagePath).stem        \n",
        "        boxPath = os.path.join(self.outputPath,\"boxes\",name+\".txt\")\n",
        "        cropImagePath = os.path.join(self.outputPath,\"crops\",imageName)\n",
        "        crop_img.save(cropImagePath)\n",
        "        self.saveBox(box,boxPath)\n",
        "        print(\"Time Detect Image : %f\" % (time.time() - start))"
      ],
      "metadata": {
        "id": "0pVn4A-Kipuv"
      },
      "execution_count": null,
      "outputs": []
    },
    {
      "cell_type": "markdown",
      "source": [
        "## Configuracion modelos pre entrenados"
      ],
      "metadata": {
        "id": "ZDxIFa4Ue7bo"
      }
    },
    {
      "cell_type": "code",
      "source": [
        "from detectron2.engine import DefaultTrainer\n",
        "instance = \"COCO-Detection/faster_rcnn_X_101_32x8d_FPN_3x.yaml\"\n",
        "cfg = get_cfg()\n",
        "cfg.merge_from_file(model_zoo.get_config_file(instance))\n",
        "cfg.DATASETS.TRAIN = (\"my_dataset_train\",)\n",
        "cfg.DATASETS.TEST = ()\n",
        "cfg.DATALOADER.NUM_WORKERS = 2\n",
        "cfg.MODEL.WEIGHTS = model_zoo.get_checkpoint_url(instance)  # Let training initialize from model zoo\n",
        "cfg.SOLVER.IMS_PER_BATCH = 2  # This is the real \"batch size\" commonly known to deep learning people\n",
        "cfg.SOLVER.BASE_LR = 0.00025  # pick a good LR\n",
        "cfg.SOLVER.MAX_ITER = 300    # 300 iterations seems good enough for this toy dataset; you will need to train longer for a practical dataset\n",
        "cfg.SOLVER.STEPS = []        # do not decay learning rate\n",
        "cfg.MODEL.ROI_HEADS.BATCH_SIZE_PER_IMAGE = 128   # The \"RoIHead batch size\". 128 is faster, and good enough for this toy dataset (default: 512)\n",
        "cfg.MODEL.ROI_HEADS.NUM_CLASSES = 2  # only has one class (ballon). (see https://detectron2.readthedocs.io/tutorials/datasets.html#update-the-config-for-new-datasets)\n",
        "# NOTE: this config means the number of classes, but a few popular unofficial tutorials incorrect uses num_classes+1 here.\n",
        "\n",
        "os.makedirs(cfg.OUTPUT_DIR, exist_ok=True)"
      ],
      "metadata": {
        "id": "yAqrpyjVKkQ6"
      },
      "execution_count": null,
      "outputs": []
    },
    {
      "cell_type": "markdown",
      "source": [
        "## Descaga modelo detección arma pre-entrenado"
      ],
      "metadata": {
        "id": "70vEy05uZLeQ"
      }
    },
    {
      "cell_type": "code",
      "source": [
        "!wget --load-cookies /tmp/cookies.txt \"https://docs.google.com/uc?export=download&confirm=$(wget --quiet --save-cookies /tmp/cookies.txt --keep-session-cookies --no-check-certificate 'https://docs.google.com/uc?export=download&id=1LNJBizVeyM2541tbb-XD1-JYdcjIfJZ1' -O- | sed -rn 's/.*confirm=([0-9A-Za-z_]+).*/\\1\\n/p')&id=1LNJBizVeyM2541tbb-XD1-JYdcjIfJZ1\" -O ./output/model_final.pth && rm -rf /tmp/cookies.txt"
      ],
      "metadata": {
        "id": "ST8wTToQewMJ",
        "colab": {
          "base_uri": "https://localhost:8080/"
        },
        "outputId": "ee66fb35-89aa-4e9d-b5c1-4b4d5cb2853e"
      },
      "execution_count": null,
      "outputs": [
        {
          "output_type": "stream",
          "name": "stdout",
          "text": [
            "--2023-01-05 13:36:50--  https://docs.google.com/uc?export=download&confirm=t&id=1LNJBizVeyM2541tbb-XD1-JYdcjIfJZ1\n",
            "Resolving docs.google.com (docs.google.com)... 173.194.215.113, 173.194.215.100, 173.194.215.102, ...\n",
            "Connecting to docs.google.com (docs.google.com)|173.194.215.113|:443... connected.\n",
            "HTTP request sent, awaiting response... 303 See Other\n",
            "Location: https://doc-0g-bk-docs.googleusercontent.com/docs/securesc/ha0ro937gcuc7l7deffksulhg5h7mbp1/cpcj8tvnj3gbt0arnuisrrvp16e94mre/1672925775000/07156903365772177219/*/1LNJBizVeyM2541tbb-XD1-JYdcjIfJZ1?e=download&uuid=a97d1b33-936f-4336-8471-e74631eaef6e [following]\n",
            "Warning: wildcards not supported in HTTP.\n",
            "--2023-01-05 13:36:50--  https://doc-0g-bk-docs.googleusercontent.com/docs/securesc/ha0ro937gcuc7l7deffksulhg5h7mbp1/cpcj8tvnj3gbt0arnuisrrvp16e94mre/1672925775000/07156903365772177219/*/1LNJBizVeyM2541tbb-XD1-JYdcjIfJZ1?e=download&uuid=a97d1b33-936f-4336-8471-e74631eaef6e\n",
            "Resolving doc-0g-bk-docs.googleusercontent.com (doc-0g-bk-docs.googleusercontent.com)... 142.250.97.132, 2607:f8b0:400c:c18::84\n",
            "Connecting to doc-0g-bk-docs.googleusercontent.com (doc-0g-bk-docs.googleusercontent.com)|142.250.97.132|:443... connected.\n",
            "HTTP request sent, awaiting response... 200 OK\n",
            "Length: 835237759 (797M) [application/x-zip]\n",
            "Saving to: ‘./output/model_final.pth’\n",
            "\n",
            "./output/model_fina 100%[===================>] 796.54M   193MB/s    in 4.3s    \n",
            "\n",
            "2023-01-05 13:36:54 (183 MB/s) - ‘./output/model_final.pth’ saved [835237759/835237759]\n",
            "\n"
          ]
        }
      ]
    },
    {
      "cell_type": "markdown",
      "source": [
        "## Creacion proyecto deteccion arma RDN"
      ],
      "metadata": {
        "id": "8uULDBW_ppqK"
      }
    },
    {
      "cell_type": "code",
      "source": [
        "!rm -rf guns-detection-rdn\n",
        "!mkdir guns-detection-rdn\n",
        "!mkdir \"guns-detection-rdn/crops\"\n",
        "!mkdir \"guns-detection-rdn/boxes\"\n",
        "!mkdir \"guns-detection-rdn/binmask\"\n",
        "!mkdir \"guns-detection-rdn/binredmask\""
      ],
      "metadata": {
        "id": "dO3WukzQpsGD"
      },
      "execution_count": null,
      "outputs": []
    },
    {
      "cell_type": "markdown",
      "source": [
        "## Creacion Pipeline red pre entrenada detección arma RDN"
      ],
      "metadata": {
        "id": "EINA8pEDg5Xo"
      }
    },
    {
      "cell_type": "code",
      "source": [
        "sourcePathRDN = os.path.join(mainPath,\"super-resolution-rdn/person\")\n",
        "outputPathRDN = os.path.join(mainPath,\"guns-detection-rdn\")\n",
        "detectImage = DetectImage(sourcePathRDN,outputPathRDN,cfg,\"model_final.pth\",0.85)\n",
        "detectImage.processImages()"
      ],
      "metadata": {
        "id": "cy6wM6IBig-B",
        "colab": {
          "base_uri": "https://localhost:8080/"
        },
        "outputId": "5579021a-9149-44c5-cfd0-bcf3aebecde3"
      },
      "execution_count": null,
      "outputs": [
        {
          "output_type": "stream",
          "name": "stdout",
          "text": [
            "./output/model_final.pth\n",
            "[01/05 13:37:06 d2.checkpoint.detection_checkpoint]: [DetectionCheckpointer] Loading from ./output/model_final.pth ...\n",
            "./super-resolution-rdn/person/*.jpg\n"
          ]
        },
        {
          "output_type": "stream",
          "name": "stderr",
          "text": [
            "/usr/local/lib/python3.8/dist-packages/torch/functional.py:504: UserWarning: torch.meshgrid: in an upcoming release, it will be required to pass the indexing argument. (Triggered internally at ../aten/src/ATen/native/TensorShape.cpp:3190.)\n",
            "  return _VF.meshgrid(tensors, **kwargs)  # type: ignore[attr-defined]\n"
          ]
        },
        {
          "output_type": "stream",
          "name": "stdout",
          "text": [
            "armas-299-_jpg.rf.7b79e627eca3de74fa325558ecb7c0a1.jpg\n",
            "Time Detect Image : 7.001651\n",
            "gmd_3_frame84_jpg.rf.a07c5f0c12debf8c9ca921839613e496.jpg\n",
            "Time Detect Image : 7.527903\n",
            "armas-263-_jpg.rf.69d306c56b8ce31ae3f7c134245a688f.jpg\n",
            "Time Detect Image : 7.784901\n",
            "gmd_1_frame194_jpg.rf.502932c0d41979ec30fdc4455a231b6a.jpg\n",
            "Time Detect Image : 8.024814\n",
            "mgd_varying_frame147_jpg.rf.739f0e78220469228c7e068326f3dbd7.jpg\n",
            "Time Detect Image : 8.326728\n",
            "armas-30-_jpg.rf.59f17a0c15a0e98acabf77885b8c8007.jpg\n",
            "Time Detect Image : 8.546806\n",
            "mgd_varying_frame68_jpg.rf.ef2ad947147d790a5c041004724d1067.jpg\n",
            "Time Detect Image : 8.815249\n",
            "454744887-1615223010_jpeg_jpg.rf.4c43ec9299cd0504550e013f28a18b96.jpg\n",
            "Time Detect Image : 9.101267\n",
            "419159897-1606023748_jpeg_jpg.rf.f1cb74fb2d8d72fc9d9669f8fd602ea3.jpg\n",
            "Time Detect Image : 9.361582\n",
            "423637303-1607076161_jpeg_jpg.rf.df58c0cec8182cbd3ee007e32019b2fc.jpg\n",
            "Time Detect Image : 9.654107\n",
            "gmd_2_frame38_jpg.rf.8d3dba4f89d4214bd63a95a0f01787ac.jpg\n",
            "Time Detect Image : 9.898172\n",
            "mgd_custom_frame1621_jpg.rf.e2612f6155a1bf1b767bb843d847d011.jpg\n",
            "Time Detect Image : 10.079305\n",
            "armas-403-_jpg.rf.88ae1f16a3e58580396a5d31d4d77210.jpg\n",
            "Time Detect Image : 10.308361\n",
            "mgd_varying_frame113_jpg.rf.37fc7ac9b24640d2923a96f817cff03d.jpg\n",
            "Time Detect Image : 10.573088\n",
            "gmd_5_frame47_jpg.rf.9ff719371d061effff02cec9c34fbaf8.jpg\n",
            "Time Detect Image : 10.883478\n",
            "gmd_3_frame75_jpg.rf.e59cb7e1d89632337a26082e30c16f1b.jpg\n",
            "Time Detect Image : 11.128068\n",
            "armas-400-_jpg.rf.8a95f18324367dd516beb5c7b078fe87.jpg\n",
            "Time Detect Image : 11.383271\n",
            "Untitled-1-33_jpg.rf.0b36c9b2421fa0c6c3cae40a8b0c69ae.jpg\n",
            "Time Detect Image : 11.637846\n",
            "mgd_custom_frame1207_jpg.rf.4a549e41e1649360a04cbf61d1d62bbf.jpg\n",
            "Time Detect Image : 11.820182\n",
            "mgd_varying_frame68_jpg.rf.89517db093b8d779405bbb00a8de28b7.jpg\n",
            "Time Detect Image : 12.099050\n",
            "mgd_custom_frame199_jpg.rf.5a8887b0a01fca89586b2f0de7ced667.jpg\n",
            "Time Detect Image : 12.365682\n",
            "gmd_5_frame62_jpg.rf.32d797d04082909cc03e5ccea71ffc53.jpg\n",
            "Time Detect Image : 12.611811\n",
            "gmd_1_frame173_jpg.rf.4704ff2c0b369c3e5dddb3737050292d.jpg\n",
            "Time Detect Image : 12.856631\n",
            "mgd_varying_frame61_jpg.rf.1b14cc795d2a89a21e91bc69faf88dce.jpg\n",
            "Time Detect Image : 13.112147\n",
            "gmd_2_frame54_jpg.rf.c57f4266d3ce8b9bdb37eb7ad663617a.jpg\n",
            "Time Detect Image : 13.303982\n",
            "gmd_2_frame11_jpg.rf.a08c02eba5aba8a2b34e2f20f02746cc.jpg\n",
            "Time Detect Image : 13.584659\n",
            "youtube_frame181_jpg.rf.c8d6011f14df3e927f84ebdfa8be4e03.jpg\n",
            "Time Detect Image : 13.849545\n",
            "gmd_2_frame37_jpg.rf.5baed1bcc40f6e52f503769bef85bde5.jpg\n",
            "Time Detect Image : 14.089358\n",
            "mgd_custom_frame1861_jpg.rf.e125b9c4d70c08e20dc37ba916b374e8.jpg\n",
            "Time Detect Image : 14.313129\n"
          ]
        }
      ]
    },
    {
      "cell_type": "markdown",
      "source": [
        "# Segmentacion Armas"
      ],
      "metadata": {
        "id": "0ZsZVYWtCZVk"
      }
    },
    {
      "cell_type": "markdown",
      "source": [
        "## Clases"
      ],
      "metadata": {
        "id": "0rBMirduCbFj"
      }
    },
    {
      "cell_type": "code",
      "source": [
        "class SegmentImage:\n",
        "  def __init__(self,sourcePath,outputPath,config,modelName,threshold) -> None:\n",
        "    self.cfg = config\n",
        "    self.cfg.MODEL.WEIGHTS = os.path.join(self.cfg.OUTPUT_DIR, modelName)\n",
        "    self.cfg.MODEL.ROI_HEADS.SCORE_THRESH_TEST = threshold\n",
        "    self.predictor = DefaultPredictor(self.cfg)\n",
        "    self.sourcePath = sourcePath\n",
        "    self.outputPath = outputPath\n",
        "\n",
        "  def crop_shape_object(self,imagePath):\n",
        "    \"\"\"Crops an object in an image\n",
        "\n",
        "    Inputs:\n",
        "      image: PIL image\n",
        "      box: one box from Detectron2 pred_boxes\n",
        "    \"\"\"  \n",
        "   \n",
        "    img= cv2.imread(imagePath)\n",
        "    outputs= self.predictor(img)\n",
        "    if outputs['instances']: \n",
        "      mask= outputs['instances'].get('pred_masks')    \n",
        "      mask= mask.to('cpu')    \n",
        "      num, h, w= mask.shape\n",
        "      bin_mask= np.zeros((h, w))\n",
        "      index  = 0\n",
        "      for m in mask:        \n",
        "          if index > 0:\n",
        "            break;\n",
        "          bin_mask = m.numpy().astype(np.uint8)\n",
        "          #indices = indices.astype(np.uint8)  #convert to an unsigned byte\n",
        "          bin_mask*=255\n",
        "          #print(bin_mask.any(0))\n",
        "          #print(index)\n",
        "          index = index +1\n",
        "          #bin_mask.append(m)\n",
        "      return True,bin_mask\n",
        "    return False,None\n",
        "  \n",
        "  def processImages(self):   \n",
        "    start = time.time()    \n",
        "    path = self.sourcePath+\"/*.jpg\"    \n",
        "    images = glob.glob(path)\n",
        "    index = 0\n",
        "    for imagePath in images:\n",
        "      if TEST_MODE:\n",
        "        if index == MAX_IMAGES:         \n",
        "          break\n",
        "        index = index + 1                \n",
        "      hasMask,bin_mask = self.crop_shape_object(imagePath)\n",
        "      if hasMask:\n",
        "        imageName = os.path.basename(imagePath)\n",
        "        print(imageName)\n",
        "        imageNamePng = Path(imageName).stem+'.png'\n",
        "        im = Image.fromarray(bin_mask)\n",
        "        imagePngPath = os.path.join(self.outputPath,imageNamePng)                        \n",
        "        im.save(imagePngPath, \"PNG\")\n",
        "        print(\"Time Segment Image : %f\" % (time.time() - start))"
      ],
      "metadata": {
        "id": "qrr83OTrCcDs"
      },
      "execution_count": null,
      "outputs": []
    },
    {
      "cell_type": "markdown",
      "source": [
        "## Configuracion modelo segementación pre entrenado"
      ],
      "metadata": {
        "id": "3cRRcXyiL9Xa"
      }
    },
    {
      "cell_type": "code",
      "source": [
        "cfg = get_cfg()\n",
        "cfg.merge_from_file(model_zoo.get_config_file(\"COCO-InstanceSegmentation/mask_rcnn_R_50_FPN_3x.yaml\"))\n",
        "cfg.DATASETS.TRAIN = (\"asl_poly_train\",)#Train dataset registered in a previous cell\n",
        "cfg.DATALOADER.NUM_WORKERS = 2\n",
        "cfg.MODEL.WEIGHTS = model_zoo.get_checkpoint_url(\"COCO-InstanceSegmentation/mask_rcnn_R_50_FPN_3x.yaml\")  # Let training initialize from model zoo\n",
        "cfg.SOLVER.IMS_PER_BATCH = 2\n",
        "cfg.SOLVER.BASE_LR = 0.00055\n",
        "cfg.SOLVER.MAX_ITER = 1200 \n",
        "cfg.SOLVER.STEPS = []\n",
        "cfg.MODEL.ROI_HEADS.BATCH_SIZE_PER_IMAGE = 512\n",
        "cfg.MODEL.ROI_HEADS.NUM_CLASSES = 2  # 26 letters plus one super class\n",
        "cfg.TEST.EVAL_PERIOD = 0 # Increase this number if you want to monitor validation performance during training\n",
        "\n",
        "PATIENCE = 500 #Early stopping will occur after N iterations of no imporovement in total_loss\n",
        "\n",
        "os.makedirs(cfg.OUTPUT_DIR, exist_ok=True)"
      ],
      "metadata": {
        "id": "H51JykEyL-wa"
      },
      "execution_count": null,
      "outputs": []
    },
    {
      "cell_type": "markdown",
      "source": [
        "## Descaga modelo segemntación arma pre-entrenado"
      ],
      "metadata": {
        "id": "j8ZqwC0AAffr"
      }
    },
    {
      "cell_type": "code",
      "source": [
        "!wget --load-cookies /tmp/cookies.txt \"https://docs.google.com/uc?export=download&confirm=$(wget --quiet --save-cookies /tmp/cookies.txt --keep-session-cookies --no-check-certificate 'https://docs.google.com/uc?export=download&id=1UYza-1NeyJ1SrD94_Kewh9lSb_zOURob' -O- | sed -rn 's/.*confirm=([0-9A-Za-z_]+).*/\\1\\n/p')&id=1UYza-1NeyJ1SrD94_Kewh9lSb_zOURob\" -O ./output/model_final_segmentaion.zip && rm -rf /tmp/cookies.txt"
      ],
      "metadata": {
        "id": "X24pqRxRAeG7",
        "colab": {
          "base_uri": "https://localhost:8080/"
        },
        "outputId": "34e0b9d1-bea6-487e-923f-aa0a779fa44f"
      },
      "execution_count": null,
      "outputs": [
        {
          "output_type": "stream",
          "name": "stdout",
          "text": [
            "--2023-01-05 13:37:21--  https://docs.google.com/uc?export=download&confirm=t&id=1UYza-1NeyJ1SrD94_Kewh9lSb_zOURob\n",
            "Resolving docs.google.com (docs.google.com)... 74.125.28.102, 74.125.28.113, 74.125.28.101, ...\n",
            "Connecting to docs.google.com (docs.google.com)|74.125.28.102|:443... connected.\n",
            "HTTP request sent, awaiting response... 303 See Other\n",
            "Location: https://doc-08-bk-docs.googleusercontent.com/docs/securesc/ha0ro937gcuc7l7deffksulhg5h7mbp1/tubdn1nrn05cnk6cs6tqqfa8dtga2421/1672925775000/07156903365772177219/*/1UYza-1NeyJ1SrD94_Kewh9lSb_zOURob?e=download&uuid=bfc26ae3-ed89-4d33-9ec7-bcd2b7eaf455 [following]\n",
            "Warning: wildcards not supported in HTTP.\n",
            "--2023-01-05 13:37:22--  https://doc-08-bk-docs.googleusercontent.com/docs/securesc/ha0ro937gcuc7l7deffksulhg5h7mbp1/tubdn1nrn05cnk6cs6tqqfa8dtga2421/1672925775000/07156903365772177219/*/1UYza-1NeyJ1SrD94_Kewh9lSb_zOURob?e=download&uuid=bfc26ae3-ed89-4d33-9ec7-bcd2b7eaf455\n",
            "Resolving doc-08-bk-docs.googleusercontent.com (doc-08-bk-docs.googleusercontent.com)... 142.250.97.132, 2607:f8b0:400c:c18::84\n",
            "Connecting to doc-08-bk-docs.googleusercontent.com (doc-08-bk-docs.googleusercontent.com)|142.250.97.132|:443... connected.\n",
            "HTTP request sent, awaiting response... 200 OK\n",
            "Length: 327636535 (312M) [application/zip]\n",
            "Saving to: ‘./output/model_final_segmentaion.zip’\n",
            "\n",
            "./output/model_fina 100%[===================>] 312.46M   172MB/s    in 1.8s    \n",
            "\n",
            "2023-01-05 13:37:24 (172 MB/s) - ‘./output/model_final_segmentaion.zip’ saved [327636535/327636535]\n",
            "\n"
          ]
        }
      ]
    },
    {
      "cell_type": "code",
      "source": [
        "!unzip -o ./output/model_final_segmentaion.zip -d ./output/"
      ],
      "metadata": {
        "id": "4Ukipc-GLpHc",
        "colab": {
          "base_uri": "https://localhost:8080/"
        },
        "outputId": "ea072d5b-0f59-4be5-ce05-267383f69a9b"
      },
      "execution_count": null,
      "outputs": [
        {
          "output_type": "stream",
          "name": "stdout",
          "text": [
            "Archive:  ./output/model_final_segmentaion.zip\n",
            "  inflating: ./output/model_final_segmentaion.pth  \n"
          ]
        }
      ]
    },
    {
      "cell_type": "markdown",
      "source": [
        "## Creacion Pipeline red pre entrenada segmentación arma RDN"
      ],
      "metadata": {
        "id": "txrxsAubrzag"
      }
    },
    {
      "cell_type": "code",
      "source": [
        "sourcePathCropsRDN = os.path.join(mainPath,\"guns-detection-rdn/crops\")\n",
        "outputPathBinMaskRDN = os.path.join(mainPath,\"guns-detection-rdn/binmask\")\n",
        "segmentImage = SegmentImage(sourcePathCropsRDN,outputPathBinMaskRDN,cfg,\"model_final_segmentaion.pth\",0.60)\n",
        "segmentImage.processImages()"
      ],
      "metadata": {
        "id": "J6d2m5JirvaS",
        "colab": {
          "base_uri": "https://localhost:8080/"
        },
        "outputId": "7839f2a8-c8f7-4af9-ebb5-1362d677b41b"
      },
      "execution_count": null,
      "outputs": [
        {
          "output_type": "stream",
          "name": "stdout",
          "text": [
            "[01/05 13:37:28 d2.checkpoint.detection_checkpoint]: [DetectionCheckpointer] Loading from ./output/model_final_segmentaion.pth ...\n",
            "armas-299-_jpg.rf.7b79e627eca3de74fa325558ecb7c0a1.jpg\n",
            "Time Segment Image : 0.152154\n",
            "gmd_3_frame84_jpg.rf.a07c5f0c12debf8c9ca921839613e496.jpg\n",
            "Time Segment Image : 0.295555\n",
            "armas-263-_jpg.rf.69d306c56b8ce31ae3f7c134245a688f.jpg\n",
            "Time Segment Image : 0.419737\n",
            "gmd_1_frame194_jpg.rf.502932c0d41979ec30fdc4455a231b6a.jpg\n",
            "Time Segment Image : 0.531806\n",
            "mgd_varying_frame147_jpg.rf.739f0e78220469228c7e068326f3dbd7.jpg\n",
            "Time Segment Image : 0.634245\n",
            "armas-30-_jpg.rf.59f17a0c15a0e98acabf77885b8c8007.jpg\n",
            "Time Segment Image : 0.737677\n",
            "mgd_varying_frame68_jpg.rf.ef2ad947147d790a5c041004724d1067.jpg\n",
            "Time Segment Image : 0.846110\n",
            "454744887-1615223010_jpeg_jpg.rf.4c43ec9299cd0504550e013f28a18b96.jpg\n",
            "Time Segment Image : 0.965516\n",
            "419159897-1606023748_jpeg_jpg.rf.f1cb74fb2d8d72fc9d9669f8fd602ea3.jpg\n",
            "Time Segment Image : 1.088058\n",
            "423637303-1607076161_jpeg_jpg.rf.df58c0cec8182cbd3ee007e32019b2fc.jpg\n",
            "Time Segment Image : 1.234055\n",
            "gmd_2_frame38_jpg.rf.8d3dba4f89d4214bd63a95a0f01787ac.jpg\n",
            "Time Segment Image : 1.331650\n",
            "mgd_custom_frame1621_jpg.rf.e2612f6155a1bf1b767bb843d847d011.jpg\n",
            "Time Segment Image : 1.427901\n",
            "armas-403-_jpg.rf.88ae1f16a3e58580396a5d31d4d77210.jpg\n",
            "Time Segment Image : 1.530152\n",
            "mgd_varying_frame113_jpg.rf.37fc7ac9b24640d2923a96f817cff03d.jpg\n",
            "Time Segment Image : 1.647629\n",
            "gmd_5_frame47_jpg.rf.9ff719371d061effff02cec9c34fbaf8.jpg\n",
            "Time Segment Image : 1.765172\n",
            "gmd_3_frame75_jpg.rf.e59cb7e1d89632337a26082e30c16f1b.jpg\n",
            "Time Segment Image : 1.860849\n",
            "armas-400-_jpg.rf.8a95f18324367dd516beb5c7b078fe87.jpg\n",
            "Time Segment Image : 1.992126\n",
            "Untitled-1-33_jpg.rf.0b36c9b2421fa0c6c3cae40a8b0c69ae.jpg\n",
            "Time Segment Image : 2.106586\n",
            "mgd_custom_frame1207_jpg.rf.4a549e41e1649360a04cbf61d1d62bbf.jpg\n",
            "Time Segment Image : 2.246894\n",
            "mgd_varying_frame68_jpg.rf.89517db093b8d779405bbb00a8de28b7.jpg\n",
            "Time Segment Image : 2.348801\n",
            "mgd_custom_frame199_jpg.rf.5a8887b0a01fca89586b2f0de7ced667.jpg\n",
            "Time Segment Image : 2.452020\n",
            "gmd_5_frame62_jpg.rf.32d797d04082909cc03e5ccea71ffc53.jpg\n",
            "Time Segment Image : 2.589951\n",
            "mgd_varying_frame61_jpg.rf.1b14cc795d2a89a21e91bc69faf88dce.jpg\n",
            "Time Segment Image : 2.830915\n",
            "gmd_2_frame54_jpg.rf.c57f4266d3ce8b9bdb37eb7ad663617a.jpg\n",
            "Time Segment Image : 2.924571\n",
            "gmd_2_frame11_jpg.rf.a08c02eba5aba8a2b34e2f20f02746cc.jpg\n",
            "Time Segment Image : 3.030119\n",
            "youtube_frame181_jpg.rf.c8d6011f14df3e927f84ebdfa8be4e03.jpg\n",
            "Time Segment Image : 3.137546\n",
            "gmd_2_frame37_jpg.rf.5baed1bcc40f6e52f503769bef85bde5.jpg\n",
            "Time Segment Image : 3.251444\n",
            "mgd_custom_frame1861_jpg.rf.e125b9c4d70c08e20dc37ba916b374e8.jpg\n",
            "Time Segment Image : 3.347502\n"
          ]
        }
      ]
    },
    {
      "cell_type": "markdown",
      "source": [
        "# Segemtancion partes del cuerpo"
      ],
      "metadata": {
        "id": "ociUBY4RPkjk"
      }
    },
    {
      "cell_type": "markdown",
      "source": [
        "## Instalar requisitos\n",
        "\n",
        "_(Recuerde elegir GPU en tiempo de ejecución si aún no lo ha seleccionado. Tiempo de ejecución --> Cambiar tipo de tiempo de ejecución --> Acelerador de hardware --> GPU)_"
      ],
      "metadata": {
        "id": "Di39qUPSPn3T"
      }
    },
    {
      "cell_type": "code",
      "source": [
        "!pip uninstall -y detectron2 \n",
        "!pip uninstall -y tensorflow\n",
        "!pip uninstall -y tensorflow_decision_forests\n",
        "!rm -rf build/ **/*.so"
      ],
      "metadata": {
        "colab": {
          "base_uri": "https://localhost:8080/"
        },
        "id": "OzkcNw9ZCVy6",
        "outputId": "6998549c-0474-4d85-d6b3-418c5245bcaf"
      },
      "execution_count": null,
      "outputs": [
        {
          "output_type": "stream",
          "name": "stdout",
          "text": [
            "Found existing installation: detectron2 0.6\n",
            "Uninstalling detectron2-0.6:\n",
            "  Successfully uninstalled detectron2-0.6\n",
            "Found existing installation: tensorflow 2.9.2\n",
            "Uninstalling tensorflow-2.9.2:\n",
            "  Successfully uninstalled tensorflow-2.9.2\n",
            "\u001b[33mWARNING: Skipping tensorflow_decision_forests as it is not installed.\u001b[0m\u001b[33m\n",
            "\u001b[0m"
          ]
        }
      ]
    },
    {
      "cell_type": "code",
      "source": [
        "!pip install tensorflow==2.8.0 tensorflow-gpu==2.8.0 tf_bodypix opencv-python tfjs_graph_converter matplotlib"
      ],
      "metadata": {
        "id": "sLiJKYaNPoH6"
      },
      "execution_count": null,
      "outputs": []
    },
    {
      "cell_type": "code",
      "source": [
        "!python -m pip install --upgrade imutils"
      ],
      "metadata": {
        "id": "58-aYaeiOlFA"
      },
      "execution_count": null,
      "outputs": []
    },
    {
      "cell_type": "markdown",
      "source": [
        "## Clases"
      ],
      "metadata": {
        "id": "VBRMFSUUSaLO"
      }
    },
    {
      "cell_type": "code",
      "source": [
        "class BodyPix:\n",
        "  def __init__(self,sourcePath,outputPath) -> None:\n",
        "    #self.bodypix_model = load_model(download_model(BodyPixModelPaths.MOBILENET_FLOAT_50_STRIDE_16))\n",
        "    self.bodypix_model = load_model(download_model(BodyPixModelPaths.MOBILENET_RESNET50_FLOAT_STRIDE_16))\n",
        "    self.sourcePath = sourcePath\n",
        "    self.outputPath = outputPath\n",
        "\n",
        "  def maskImage(self,imagePath):\n",
        "    imageName = os.path.basename(imagePath)\n",
        "    \n",
        "    # load model (once)\n",
        "\n",
        "    image = tf.keras.utils.load_img(imagePath)\n",
        "    image_array = tf.keras.preprocessing.image.img_to_array(image)\n",
        "    # get prediction result\n",
        "    #image = tf.keras.preprocessing.image.load_img(fullPath)    \n",
        "    result = self.bodypix_model.predict_single(image_array)\n",
        "\n",
        "    # simple mask\n",
        "    mask = result.get_mask(threshold=0.75)\n",
        "    tf.keras.preprocessing.image.save_img(\n",
        "        os.path.join(self.outputPath,\"output-mask\",imageName),\n",
        "        mask)\n",
        "\n",
        "    # colored mask (separate colour for each body part)\n",
        "    colored_mask = result.get_colored_part_mask(mask)\n",
        "    tf.keras.preprocessing.image.save_img(\n",
        "        os.path.join(self.outputPath,\"output-colored-mask\",imageName),\n",
        "        colored_mask)\n",
        "\n",
        "\n",
        "\n",
        "    poses = result.get_poses()\n",
        "    image_with_poses = draw_poses(\n",
        "        image_array.copy(),  # create a copy to ensure we are not modifing the source image\n",
        "        poses,\n",
        "        keypoints_color=(255, 100, 100),\n",
        "        skeleton_color=(100, 100, 255)\n",
        "    )\n",
        "    tf.keras.preprocessing.image.save_img(\n",
        "        os.path.join(self.outputPath,\"output-poses\",imageName),\n",
        "        image_with_poses\n",
        "    )\n",
        "    \n",
        "\n",
        "  def processImages(self):       \n",
        "    start = time.time() \n",
        "    path = self.sourcePath+\"/*.jpg\"\n",
        "    print(path)\n",
        "    images = glob.glob(path)\n",
        "    index = 0\n",
        "    for imagePath in images:\n",
        "      if TEST_MODE:\n",
        "        if index == MAX_IMAGES:         \n",
        "          break\n",
        "        index = index + 1\n",
        "      imageName = os.path.basename(imagePath)\n",
        "      print(imageName)      \n",
        "      self.maskImage(imagePath) \n",
        "      print(\"Time Taken Body Pix : %f\" % (time.time() - start))"
      ],
      "metadata": {
        "id": "7X_iiDSFSbp-"
      },
      "execution_count": null,
      "outputs": []
    },
    {
      "cell_type": "markdown",
      "source": [
        "## Liberias BodyPix"
      ],
      "metadata": {
        "id": "VeHBWZgezkG8"
      }
    },
    {
      "cell_type": "code",
      "source": [
        "import tensorflow as tf\n",
        "from tf_bodypix.api import download_model, load_model, BodyPixModelPaths\n",
        "from tf_bodypix.draw import draw_poses  # utility function using OpenCV"
      ],
      "metadata": {
        "id": "aGpRsIi9GSeq"
      },
      "execution_count": null,
      "outputs": []
    },
    {
      "cell_type": "markdown",
      "metadata": {
        "id": "StAF7KobHRvW"
      },
      "source": [
        "## Creacion proyecto body pix RDN"
      ]
    },
    {
      "cell_type": "code",
      "execution_count": null,
      "metadata": {
        "id": "WWZh8S3VHRQW"
      },
      "outputs": [],
      "source": [
        "!rm -rf body-pix-rdn\n",
        "!mkdir body-pix-rdn\n",
        "!mkdir \"body-pix-rdn/person\"\n",
        "!mkdir \"body-pix-rdn/person/output-mask\"\n",
        "!mkdir \"body-pix-rdn/person/output-colored-mask\"\n",
        "!mkdir \"body-pix-rdn/person/output-poses\""
      ]
    },
    {
      "cell_type": "markdown",
      "metadata": {
        "id": "HQa125O5IOGu"
      },
      "source": [
        "## Creacion Pipeline red detección partes cuerpo RDN"
      ]
    },
    {
      "cell_type": "code",
      "execution_count": null,
      "metadata": {
        "id": "w6hqMgvmHPs_",
        "scrolled": false,
        "colab": {
          "base_uri": "https://localhost:8080/"
        },
        "outputId": "353c6d1f-9298-412b-e15e-d826de2772dc"
      },
      "outputs": [
        {
          "output_type": "stream",
          "name": "stdout",
          "text": [
            "./super-resolution-rdn/person/*.jpg\n",
            "armas-299-_jpg.rf.7b79e627eca3de74fa325558ecb7c0a1.jpg\n",
            "Time Taken Body Pix : 4.459844\n",
            "mgd_custom_frame197_jpg.rf.6b2101e506e1477d6e07509a4d6f51c7.jpg\n",
            "Time Taken Body Pix : 4.965433\n",
            "gmd_3_frame84_jpg.rf.a07c5f0c12debf8c9ca921839613e496.jpg\n",
            "Time Taken Body Pix : 5.735367\n",
            "armas-263-_jpg.rf.69d306c56b8ce31ae3f7c134245a688f.jpg\n",
            "Time Taken Body Pix : 6.590691\n",
            "gmd_1_frame194_jpg.rf.502932c0d41979ec30fdc4455a231b6a.jpg\n",
            "Time Taken Body Pix : 7.353193\n",
            "mgd_varying_frame147_jpg.rf.739f0e78220469228c7e068326f3dbd7.jpg\n",
            "Time Taken Body Pix : 8.732010\n",
            "armas-30-_jpg.rf.59f17a0c15a0e98acabf77885b8c8007.jpg\n",
            "Time Taken Body Pix : 9.618219\n",
            "mgd_varying_frame68_jpg.rf.ef2ad947147d790a5c041004724d1067.jpg\n",
            "Time Taken Body Pix : 11.076553\n",
            "454744887-1615223010_jpeg_jpg.rf.4c43ec9299cd0504550e013f28a18b96.jpg\n",
            "Time Taken Body Pix : 11.923055\n",
            "419159897-1606023748_jpeg_jpg.rf.f1cb74fb2d8d72fc9d9669f8fd602ea3.jpg\n",
            "Time Taken Body Pix : 13.100289\n",
            "423637303-1607076161_jpeg_jpg.rf.df58c0cec8182cbd3ee007e32019b2fc.jpg\n",
            "Time Taken Body Pix : 14.485408\n",
            "gmd_2_frame38_jpg.rf.8d3dba4f89d4214bd63a95a0f01787ac.jpg\n",
            "Time Taken Body Pix : 14.579175\n",
            "mgd_custom_frame1621_jpg.rf.e2612f6155a1bf1b767bb843d847d011.jpg\n",
            "Time Taken Body Pix : 15.281272\n",
            "armas-403-_jpg.rf.88ae1f16a3e58580396a5d31d4d77210.jpg\n",
            "Time Taken Body Pix : 16.186731\n",
            "mgd_varying_frame113_jpg.rf.37fc7ac9b24640d2923a96f817cff03d.jpg\n",
            "Time Taken Body Pix : 17.566607\n",
            "gmd_5_frame47_jpg.rf.9ff719371d061effff02cec9c34fbaf8.jpg\n",
            "Time Taken Body Pix : 18.412082\n",
            "gmd_3_frame75_jpg.rf.e59cb7e1d89632337a26082e30c16f1b.jpg\n",
            "Time Taken Body Pix : 18.502680\n",
            "armas-400-_jpg.rf.8a95f18324367dd516beb5c7b078fe87.jpg\n",
            "Time Taken Body Pix : 19.396212\n",
            "Untitled-1-33_jpg.rf.0b36c9b2421fa0c6c3cae40a8b0c69ae.jpg\n",
            "Time Taken Body Pix : 20.257413\n",
            "mgd_custom_frame1207_jpg.rf.4a549e41e1649360a04cbf61d1d62bbf.jpg\n",
            "Time Taken Body Pix : 20.734867\n",
            "mgd_varying_frame68_jpg.rf.89517db093b8d779405bbb00a8de28b7.jpg\n",
            "Time Taken Body Pix : 21.079680\n",
            "mgd_custom_frame199_jpg.rf.5a8887b0a01fca89586b2f0de7ced667.jpg\n",
            "Time Taken Body Pix : 21.135375\n",
            "gmd_5_frame62_jpg.rf.32d797d04082909cc03e5ccea71ffc53.jpg\n",
            "Time Taken Body Pix : 21.917702\n",
            "gmd_1_frame173_jpg.rf.4704ff2c0b369c3e5dddb3737050292d.jpg\n",
            "Time Taken Body Pix : 22.688261\n",
            "mgd_varying_frame61_jpg.rf.1b14cc795d2a89a21e91bc69faf88dce.jpg\n",
            "Time Taken Body Pix : 24.104597\n",
            "gmd_2_frame54_jpg.rf.c57f4266d3ce8b9bdb37eb7ad663617a.jpg\n",
            "Time Taken Body Pix : 24.859744\n",
            "gmd_2_frame11_jpg.rf.a08c02eba5aba8a2b34e2f20f02746cc.jpg\n",
            "Time Taken Body Pix : 25.704567\n",
            "youtube_frame181_jpg.rf.c8d6011f14df3e927f84ebdfa8be4e03.jpg\n",
            "Time Taken Body Pix : 26.778195\n",
            "gmd_2_frame37_jpg.rf.5baed1bcc40f6e52f503769bef85bde5.jpg\n",
            "Time Taken Body Pix : 27.541005\n",
            "mgd_custom_frame1861_jpg.rf.e125b9c4d70c08e20dc37ba916b374e8.jpg\n",
            "Time Taken Body Pix : 28.259980\n"
          ]
        }
      ],
      "source": [
        "sourcePathMask = os.path.join(mainPath,\"super-resolution-rdn/person\")\n",
        "outputPathBody = os.path.join(mainPath,\"body-pix-rdn/person\")\n",
        "bodyPix = BodyPix(sourcePathMask,outputPathBody)\n",
        "bodyPix.processImages()"
      ]
    },
    {
      "cell_type": "markdown",
      "source": [
        "# Reemplazo mascara "
      ],
      "metadata": {
        "id": "_B0Ighl_jLDN"
      }
    },
    {
      "cell_type": "markdown",
      "source": [
        "## Librerias"
      ],
      "metadata": {
        "id": "M1fpLaUh3mLx"
      }
    },
    {
      "cell_type": "code",
      "source": [
        "import shutil"
      ],
      "metadata": {
        "id": "30oLN7613nmx"
      },
      "execution_count": null,
      "outputs": []
    },
    {
      "cell_type": "markdown",
      "source": [
        "## Clases"
      ],
      "metadata": {
        "id": "emm8eXzJ0Gag"
      }
    },
    {
      "cell_type": "code",
      "source": [
        "class BitMaskGenerator:\n",
        "  def __init__(self,sourcePath,outputPath) -> None:    \n",
        "    self.sourcePath = sourcePath\n",
        "    self.outputPath = outputPath\n",
        "\n",
        "  def createBitMask(self,imagePath):\n",
        "    img = Image.open(imagePath)\n",
        "    img = img.convert(\"RGBA\")\n",
        "    datas = img.getdata()\n",
        "    newData = []\n",
        "    for item in datas:\n",
        "        if item[0] == 255 and item[1] == 255 and item[2] == 255:\n",
        "            newData.append((255,0,0, 0))\n",
        "        else:\n",
        "            newData.append(item)\n",
        "\n",
        "    img.putdata(newData)\n",
        "    return img.convert('RGB')\n",
        "    \n",
        "\n",
        "    return False,None\n",
        "  \n",
        "  def processImages(self):   \n",
        "    start = time.time()    \n",
        "    path = self.sourcePath+\"/*.png\"    \n",
        "    images = glob.glob(path)\n",
        "    index = 0\n",
        "    for imagePath in images:\n",
        "      if TEST_MODE:\n",
        "        if index == MAX_IMAGES:         \n",
        "          break\n",
        "        index = index + 1                      \n",
        "      rgb_im = self.createBitMask(imagePath)    \n",
        "      imageName = os.path.basename(imagePath)      \n",
        "      print(imageName)\n",
        "      imageNamePng = Path(imageName).stem+'.png'      \n",
        "      imagePngPath = os.path.join(self.outputPath,imageNamePng) \n",
        "      rgb_im.save(imagePngPath)     \n",
        "      print(\"Time BitMaskRed Image : %f\" % (time.time() - start))"
      ],
      "metadata": {
        "id": "8fueIjdGj_Td"
      },
      "execution_count": null,
      "outputs": []
    },
    {
      "cell_type": "code",
      "source": [
        "class ImageBitMaskUtil:\n",
        "  def __init__(self,sourcePath,pathBitMask, pathBitRedMask, pathBox,outputPath) -> None:    \n",
        "    self.sourcePath = sourcePath\n",
        "    self.outputPath = outputPath\n",
        "    self.pathBitMask = pathBitMask\n",
        "    self.pathBox = pathBox\n",
        "    self.pathBitRedMask = pathBitRedMask\n",
        "    \n",
        "  def readBox(self,boxPath):\n",
        "    values = []\n",
        "    with open(boxPath, \"r\") as f:\n",
        "      for line in f:\n",
        "        values.append(float(line.strip()))\n",
        "    return values\n",
        "  def pasteBitMask(self,pathImage):\n",
        "    imageName = os.path.basename(pathImage)\n",
        "    name  = Path(imageName).stem\n",
        "    pathImageMask = os.path.join(self.pathBitMask,name+\".png\")\n",
        "    pathBitRedMask = os.path.join(self.pathBitRedMask,name+\".png\")\n",
        "    if os.path.exists(pathImageMask):\n",
        "      print(imageName)      \n",
        "      boxImagePath  = os.path.join(self.pathBox,name+'.txt')\n",
        "      box = self.readBox(boxImagePath)      \n",
        "      print(\"box\",box)\n",
        "      with Image.open(pathImage) as imageBody:\n",
        "          imageBody.load()\n",
        "      with Image.open(pathBitRedMask) as imgGunRedMask:\n",
        "          imgGunRedMask.load()\n",
        "      with Image.open(pathImageMask) as imgGunMask:\n",
        "          imgGunMask.load()\n",
        "    \n",
        "      imageBody.paste(\n",
        "          imgGunRedMask.resize((imgGunRedMask.width, imgGunRedMask.height)),\n",
        "          (int(box[0]) ,int(box[1])),\n",
        "          imgGunMask.resize((imgGunMask.width, imgGunMask.height)),\n",
        "      )\n",
        "      pathImageResult = os.path.join(self.outputPath,imageName)\n",
        "      imageBody.save(pathImageResult)\n",
        "  \n",
        "  def processImages(self):   \n",
        "    start = time.time()    \n",
        "    path = self.sourcePath+\"/*.jpg\"    \n",
        "    images = glob.glob(path)\n",
        "    index = 0\n",
        "    for imagePath in images:\n",
        "      if TEST_MODE:\n",
        "        if index == MAX_IMAGES:         \n",
        "          break\n",
        "        index = index + 1               \n",
        "      imageName = os.path.basename(imagePath)      \n",
        "      self.pasteBitMask(imagePath)             \n",
        "      print(\"Time PasteBitMaskRed into Image : %f\" % (time.time() - start))"
      ],
      "metadata": {
        "id": "OuIzkxt7mtPy"
      },
      "execution_count": null,
      "outputs": []
    },
    {
      "cell_type": "code",
      "source": [
        "class ImageSegmentedUtil:\n",
        "  def __init__(self,sourcePathSegmented,sourcePath, outputPath) -> None:    \n",
        "    self.sourcePath = sourcePath\n",
        "    self.outputPath = outputPath\n",
        "    self.sourcePathSegmented = sourcePathSegmented    \n",
        "    \n",
        "\n",
        "\n",
        "  \n",
        "  def processImages(self):   \n",
        "    start = time.time()    \n",
        "    path = self.sourcePathSegmented+\"/*.jpg\"    \n",
        "    images = glob.glob(path)\n",
        "    index = 0\n",
        "    for imagePath in images:\n",
        "      if TEST_MODE:\n",
        "        if index == MAX_IMAGES:         \n",
        "          break\n",
        "        index = index + 1        \n",
        "      imageName = os.path.basename(imagePath)\n",
        "      print(imageName)\n",
        "      originalImagePath = os.path.join(self.sourcePath,imageName) \n",
        "      outputImagePath  = os.path.join(self.outputPath,imageName) \n",
        "      shutil.copyfile(originalImagePath, outputImagePath)           \n",
        "      print(\"Time PasteBitMaskRed into Image : %f\" % (time.time() - start))"
      ],
      "metadata": {
        "id": "Dw2o1xCg5ihZ"
      },
      "execution_count": null,
      "outputs": []
    },
    {
      "cell_type": "markdown",
      "source": [
        "## Creacion proyecto merge armas segmentadas y personas"
      ],
      "metadata": {
        "id": "pgTHwCCk0OMx"
      }
    },
    {
      "cell_type": "code",
      "source": [
        "!rm -rf segmented-body-parts-gun-rdn\n",
        "!mkdir segmented-body-parts-gun-rdn\n",
        "!mkdir \"segmented-body-parts-gun-rdn/original\"\n",
        "!mkdir \"segmented-body-parts-gun-rdn/segmentado\""
      ],
      "metadata": {
        "id": "acXLFxB_j1cG"
      },
      "execution_count": null,
      "outputs": []
    },
    {
      "cell_type": "markdown",
      "source": [
        "## Creacion Pipeline procesamiento merge partes cuerpo segmentadas y armas"
      ],
      "metadata": {
        "id": "PYjZseGz1UTw"
      }
    },
    {
      "cell_type": "code",
      "source": [
        "sourcePatBinMask = os.path.join(mainPath,\"guns-detection-rdn/binmask\")\n",
        "outputPathBinRedMask = os.path.join(mainPath,\"guns-detection-rdn/binredmask\")\n",
        "bitMaskGenerator = BitMaskGenerator(sourcePatBinMask,outputPathBinRedMask)\n",
        "bitMaskGenerator.processImages()"
      ],
      "metadata": {
        "id": "ymOG57iF1asP",
        "colab": {
          "base_uri": "https://localhost:8080/"
        },
        "outputId": "98c8ec72-7bff-4e63-ba4c-f310b2973441"
      },
      "execution_count": null,
      "outputs": [
        {
          "output_type": "stream",
          "name": "stdout",
          "text": [
            "mgd_varying_frame68_jpg.rf.ef2ad947147d790a5c041004724d1067.png\n",
            "Time BitMaskRed Image : 0.028005\n",
            "gmd_5_frame62_jpg.rf.32d797d04082909cc03e5ccea71ffc53.png\n",
            "Time BitMaskRed Image : 0.030861\n",
            "423637303-1607076161_jpeg_jpg.rf.df58c0cec8182cbd3ee007e32019b2fc.png\n",
            "Time BitMaskRed Image : 0.124684\n",
            "Untitled-1-33_jpg.rf.0b36c9b2421fa0c6c3cae40a8b0c69ae.png\n",
            "Time BitMaskRed Image : 0.134979\n",
            "gmd_2_frame37_jpg.rf.5baed1bcc40f6e52f503769bef85bde5.png\n",
            "Time BitMaskRed Image : 0.137139\n",
            "gmd_1_frame194_jpg.rf.502932c0d41979ec30fdc4455a231b6a.png\n",
            "Time BitMaskRed Image : 0.139379\n",
            "armas-263-_jpg.rf.69d306c56b8ce31ae3f7c134245a688f.png\n",
            "Time BitMaskRed Image : 0.154819\n",
            "gmd_3_frame84_jpg.rf.a07c5f0c12debf8c9ca921839613e496.png\n",
            "Time BitMaskRed Image : 0.158298\n",
            "gmd_2_frame11_jpg.rf.a08c02eba5aba8a2b34e2f20f02746cc.png\n",
            "Time BitMaskRed Image : 0.160682\n",
            "419159897-1606023748_jpeg_jpg.rf.f1cb74fb2d8d72fc9d9669f8fd602ea3.png\n",
            "Time BitMaskRed Image : 0.211826\n",
            "gmd_2_frame38_jpg.rf.8d3dba4f89d4214bd63a95a0f01787ac.png\n",
            "Time BitMaskRed Image : 0.214103\n",
            "gmd_2_frame54_jpg.rf.c57f4266d3ce8b9bdb37eb7ad663617a.png\n",
            "Time BitMaskRed Image : 0.216406\n",
            "454744887-1615223010_jpeg_jpg.rf.4c43ec9299cd0504550e013f28a18b96.png\n",
            "Time BitMaskRed Image : 0.235805\n",
            "mgd_custom_frame1621_jpg.rf.e2612f6155a1bf1b767bb843d847d011.png\n",
            "Time BitMaskRed Image : 0.237998\n",
            "mgd_custom_frame1207_jpg.rf.4a549e41e1649360a04cbf61d1d62bbf.png\n",
            "Time BitMaskRed Image : 0.240259\n",
            "youtube_frame181_jpg.rf.c8d6011f14df3e927f84ebdfa8be4e03.png\n",
            "Time BitMaskRed Image : 0.249160\n",
            "gmd_3_frame75_jpg.rf.e59cb7e1d89632337a26082e30c16f1b.png\n",
            "Time BitMaskRed Image : 0.251615\n",
            "gmd_5_frame47_jpg.rf.9ff719371d061effff02cec9c34fbaf8.png\n",
            "Time BitMaskRed Image : 0.255481\n",
            "mgd_varying_frame68_jpg.rf.89517db093b8d779405bbb00a8de28b7.png\n",
            "Time BitMaskRed Image : 0.270819\n",
            "armas-400-_jpg.rf.8a95f18324367dd516beb5c7b078fe87.png\n",
            "Time BitMaskRed Image : 0.302986\n",
            "mgd_varying_frame147_jpg.rf.739f0e78220469228c7e068326f3dbd7.png\n",
            "Time BitMaskRed Image : 0.319778\n",
            "armas-299-_jpg.rf.7b79e627eca3de74fa325558ecb7c0a1.png\n",
            "Time BitMaskRed Image : 0.322614\n",
            "armas-403-_jpg.rf.88ae1f16a3e58580396a5d31d4d77210.png\n",
            "Time BitMaskRed Image : 0.392769\n",
            "mgd_custom_frame199_jpg.rf.5a8887b0a01fca89586b2f0de7ced667.png\n",
            "Time BitMaskRed Image : 0.400259\n",
            "armas-30-_jpg.rf.59f17a0c15a0e98acabf77885b8c8007.png\n",
            "Time BitMaskRed Image : 0.411234\n",
            "mgd_custom_frame1861_jpg.rf.e125b9c4d70c08e20dc37ba916b374e8.png\n",
            "Time BitMaskRed Image : 0.413433\n",
            "mgd_varying_frame113_jpg.rf.37fc7ac9b24640d2923a96f817cff03d.png\n",
            "Time BitMaskRed Image : 0.447621\n",
            "mgd_varying_frame61_jpg.rf.1b14cc795d2a89a21e91bc69faf88dce.png\n",
            "Time BitMaskRed Image : 0.468949\n"
          ]
        }
      ]
    },
    {
      "cell_type": "code",
      "source": [
        "sourcePathBody = \"body-pix-rdn/person/output-colored-mask\"\n",
        "pathBitMask = \"guns-detection-rdn/binmask\"\n",
        "pathBitRedMask = \"guns-detection-rdn/binredmask\"\n",
        "boxPath = \"guns-detection-rdn/boxes\"\n",
        "outputPathSegmented = \"segmented-body-parts-gun-rdn/segmentado\"\n",
        "imageBitMaskUtil = ImageBitMaskUtil(sourcePathBody,pathBitMask, pathBitRedMask, boxPath,outputPathSegmented)\n",
        "imageBitMaskUtil.processImages()"
      ],
      "metadata": {
        "id": "TWqT2Su32Svx",
        "colab": {
          "base_uri": "https://localhost:8080/"
        },
        "outputId": "0de7ac47-c5a5-44a7-a78a-6f80d0c49b50"
      },
      "execution_count": null,
      "outputs": [
        {
          "output_type": "stream",
          "name": "stdout",
          "text": [
            "armas-299-_jpg.rf.7b79e627eca3de74fa325558ecb7c0a1.jpg\n",
            "box [618.56805, 572.8567, 657.919, 685.53125]\n",
            "Time PasteBitMaskRed into Image : 0.026582\n",
            "Time PasteBitMaskRed into Image : 0.026743\n",
            "gmd_3_frame84_jpg.rf.a07c5f0c12debf8c9ca921839613e496.jpg\n",
            "box [300.46854, 412.29004, 362.0, 501.33936]\n",
            "Time PasteBitMaskRed into Image : 0.038824\n",
            "armas-263-_jpg.rf.69d306c56b8ce31ae3f7c134245a688f.jpg\n",
            "box [82.86046, 127.36709, 241.44652, 364.70782]\n",
            "Time PasteBitMaskRed into Image : 0.058661\n",
            "gmd_1_frame194_jpg.rf.502932c0d41979ec30fdc4455a231b6a.jpg\n",
            "box [0.0, 271.2685, 43.450256, 327.71115]\n",
            "Time PasteBitMaskRed into Image : 0.069099\n",
            "mgd_varying_frame147_jpg.rf.739f0e78220469228c7e068326f3dbd7.jpg\n",
            "box [109.62228, 647.5389, 314.2229, 870.8927]\n",
            "Time PasteBitMaskRed into Image : 0.104504\n",
            "armas-30-_jpg.rf.59f17a0c15a0e98acabf77885b8c8007.jpg\n",
            "box [54.358513, 170.9082, 199.12994, 291.6239]\n",
            "Time PasteBitMaskRed into Image : 0.125618\n",
            "mgd_varying_frame68_jpg.rf.ef2ad947147d790a5c041004724d1067.jpg\n",
            "box [919.308, 504.58932, 1100.0, 725.9216]\n",
            "Time PasteBitMaskRed into Image : 0.168346\n",
            "454744887-1615223010_jpeg_jpg.rf.4c43ec9299cd0504550e013f28a18b96.jpg\n",
            "box [30.563156, 357.79886, 186.7712, 667.3789]\n",
            "Time PasteBitMaskRed into Image : 0.188774\n",
            "419159897-1606023748_jpeg_jpg.rf.f1cb74fb2d8d72fc9d9669f8fd602ea3.jpg\n",
            "box [532.7029, 159.40439, 848.34875, 589.07056]\n",
            "Time PasteBitMaskRed into Image : 0.223028\n",
            "423637303-1607076161_jpeg_jpg.rf.df58c0cec8182cbd3ee007e32019b2fc.jpg\n",
            "box [396.35144, 519.80304, 776.2622, 1151.4386]\n",
            "Time PasteBitMaskRed into Image : 0.267758\n",
            "gmd_2_frame38_jpg.rf.8d3dba4f89d4214bd63a95a0f01787ac.jpg\n",
            "box [297.00098, 231.35768, 349.19, 277.35117]\n",
            "Time PasteBitMaskRed into Image : 0.278398\n",
            "mgd_custom_frame1621_jpg.rf.e2612f6155a1bf1b767bb843d847d011.jpg\n",
            "box [112.84577, 178.26112, 168.25452, 227.333]\n",
            "Time PasteBitMaskRed into Image : 0.283842\n",
            "armas-403-_jpg.rf.88ae1f16a3e58580396a5d31d4d77210.jpg\n",
            "box [31.402277, 103.48934, 433.67947, 547.69415]\n",
            "Time PasteBitMaskRed into Image : 0.309129\n",
            "mgd_varying_frame113_jpg.rf.37fc7ac9b24640d2923a96f817cff03d.jpg\n",
            "box [0.0, 308.26608, 262.51785, 659.71185]\n",
            "Time PasteBitMaskRed into Image : 0.352098\n",
            "gmd_5_frame47_jpg.rf.9ff719371d061effff02cec9c34fbaf8.jpg\n",
            "box [455.49976, 103.92389, 517.2464, 225.9786]\n",
            "Time PasteBitMaskRed into Image : 0.368055\n",
            "gmd_3_frame75_jpg.rf.e59cb7e1d89632337a26082e30c16f1b.jpg\n",
            "box [304.06052, 314.55334, 358.0, 374.3877]\n",
            "Time PasteBitMaskRed into Image : 0.379153\n",
            "armas-400-_jpg.rf.8a95f18324367dd516beb5c7b078fe87.jpg\n",
            "box [387.0542, 270.99557, 626.8766, 649.34186]\n",
            "Time PasteBitMaskRed into Image : 0.400580\n",
            "Untitled-1-33_jpg.rf.0b36c9b2421fa0c6c3cae40a8b0c69ae.jpg\n",
            "box [529.8893, 282.6199, 659.4776, 474.5214]\n",
            "Time PasteBitMaskRed into Image : 0.421577\n",
            "mgd_custom_frame1207_jpg.rf.4a549e41e1649360a04cbf61d1d62bbf.jpg\n",
            "box [61.79877, 121.16407, 100.7816, 188.74341]\n",
            "Time PasteBitMaskRed into Image : 0.428684\n",
            "mgd_varying_frame68_jpg.rf.89517db093b8d779405bbb00a8de28b7.jpg\n",
            "box [0.0, 500.28738, 184.42496, 716.5716]\n",
            "Time PasteBitMaskRed into Image : 0.478541\n",
            "mgd_custom_frame199_jpg.rf.5a8887b0a01fca89586b2f0de7ced667.jpg\n",
            "box [9.37439, 330.75427, 127.97282, 423.28256]\n",
            "Time PasteBitMaskRed into Image : 0.485794\n",
            "gmd_5_frame62_jpg.rf.32d797d04082909cc03e5ccea71ffc53.jpg\n",
            "box [19.940985, 74.880135, 65.5399, 151.44994]\n",
            "Time PasteBitMaskRed into Image : 0.496828\n",
            "Time PasteBitMaskRed into Image : 0.496943\n",
            "mgd_varying_frame61_jpg.rf.1b14cc795d2a89a21e91bc69faf88dce.jpg\n",
            "box [588.9119, 571.4634, 868.9599, 792.3306]\n",
            "Time PasteBitMaskRed into Image : 0.539751\n",
            "gmd_2_frame54_jpg.rf.c57f4266d3ce8b9bdb37eb7ad663617a.jpg\n",
            "box [6.5367117, 316.04407, 61.59019, 374.26294]\n",
            "Time PasteBitMaskRed into Image : 0.549140\n",
            "gmd_2_frame11_jpg.rf.a08c02eba5aba8a2b34e2f20f02746cc.jpg\n",
            "box [2.8983428, 234.47449, 48.799603, 291.2215]\n",
            "Time PasteBitMaskRed into Image : 0.561332\n",
            "youtube_frame181_jpg.rf.c8d6011f14df3e927f84ebdfa8be4e03.jpg\n",
            "box [116.683655, 656.4312, 250.73007, 820.3076]\n",
            "Time PasteBitMaskRed into Image : 0.579992\n",
            "gmd_2_frame37_jpg.rf.5baed1bcc40f6e52f503769bef85bde5.jpg\n",
            "box [0.0, 212.73882, 51.935326, 251.7765]\n",
            "Time PasteBitMaskRed into Image : 0.591510\n",
            "mgd_custom_frame1861_jpg.rf.e125b9c4d70c08e20dc37ba916b374e8.jpg\n",
            "box [163.6275, 45.271896, 211.1744, 98.14053]\n",
            "Time PasteBitMaskRed into Image : 0.598172\n"
          ]
        }
      ]
    },
    {
      "cell_type": "code",
      "source": [
        "outputOriginalPath = \"segmented-body-parts-gun-rdn/original\"\n",
        "imageSegmentedUtil = ImageSegmentedUtil(outputPathSegmented,sourcePathMask, outputOriginalPath)\n",
        "imageSegmentedUtil.processImages()"
      ],
      "metadata": {
        "id": "Qc-2Xb5e6RUC",
        "colab": {
          "base_uri": "https://localhost:8080/"
        },
        "outputId": "50206482-cf63-4686-a0d1-0d97f6bd7c60"
      },
      "execution_count": null,
      "outputs": [
        {
          "output_type": "stream",
          "name": "stdout",
          "text": [
            "armas-299-_jpg.rf.7b79e627eca3de74fa325558ecb7c0a1.jpg\n",
            "Time PasteBitMaskRed into Image : 0.000676\n",
            "gmd_3_frame84_jpg.rf.a07c5f0c12debf8c9ca921839613e496.jpg\n",
            "Time PasteBitMaskRed into Image : 0.000891\n",
            "armas-263-_jpg.rf.69d306c56b8ce31ae3f7c134245a688f.jpg\n",
            "Time PasteBitMaskRed into Image : 0.001103\n",
            "gmd_1_frame194_jpg.rf.502932c0d41979ec30fdc4455a231b6a.jpg\n",
            "Time PasteBitMaskRed into Image : 0.001264\n",
            "mgd_varying_frame147_jpg.rf.739f0e78220469228c7e068326f3dbd7.jpg\n",
            "Time PasteBitMaskRed into Image : 0.001468\n",
            "armas-30-_jpg.rf.59f17a0c15a0e98acabf77885b8c8007.jpg\n",
            "Time PasteBitMaskRed into Image : 0.001695\n",
            "mgd_varying_frame68_jpg.rf.ef2ad947147d790a5c041004724d1067.jpg\n",
            "Time PasteBitMaskRed into Image : 0.001932\n",
            "454744887-1615223010_jpeg_jpg.rf.4c43ec9299cd0504550e013f28a18b96.jpg\n",
            "Time PasteBitMaskRed into Image : 0.002281\n",
            "419159897-1606023748_jpeg_jpg.rf.f1cb74fb2d8d72fc9d9669f8fd602ea3.jpg\n",
            "Time PasteBitMaskRed into Image : 0.010631\n",
            "423637303-1607076161_jpeg_jpg.rf.df58c0cec8182cbd3ee007e32019b2fc.jpg\n",
            "Time PasteBitMaskRed into Image : 0.012881\n",
            "gmd_2_frame38_jpg.rf.8d3dba4f89d4214bd63a95a0f01787ac.jpg\n",
            "Time PasteBitMaskRed into Image : 0.014249\n",
            "mgd_custom_frame1621_jpg.rf.e2612f6155a1bf1b767bb843d847d011.jpg\n",
            "Time PasteBitMaskRed into Image : 0.015718\n",
            "armas-403-_jpg.rf.88ae1f16a3e58580396a5d31d4d77210.jpg\n",
            "Time PasteBitMaskRed into Image : 0.016788\n",
            "mgd_varying_frame113_jpg.rf.37fc7ac9b24640d2923a96f817cff03d.jpg\n",
            "Time PasteBitMaskRed into Image : 0.017890\n",
            "gmd_5_frame47_jpg.rf.9ff719371d061effff02cec9c34fbaf8.jpg\n",
            "Time PasteBitMaskRed into Image : 0.019012\n",
            "gmd_3_frame75_jpg.rf.e59cb7e1d89632337a26082e30c16f1b.jpg\n",
            "Time PasteBitMaskRed into Image : 0.020065\n",
            "armas-400-_jpg.rf.8a95f18324367dd516beb5c7b078fe87.jpg\n",
            "Time PasteBitMaskRed into Image : 0.021119\n",
            "Untitled-1-33_jpg.rf.0b36c9b2421fa0c6c3cae40a8b0c69ae.jpg\n",
            "Time PasteBitMaskRed into Image : 0.022170\n",
            "mgd_custom_frame1207_jpg.rf.4a549e41e1649360a04cbf61d1d62bbf.jpg\n",
            "Time PasteBitMaskRed into Image : 0.023160\n",
            "mgd_varying_frame68_jpg.rf.89517db093b8d779405bbb00a8de28b7.jpg\n",
            "Time PasteBitMaskRed into Image : 0.024236\n",
            "mgd_custom_frame199_jpg.rf.5a8887b0a01fca89586b2f0de7ced667.jpg\n",
            "Time PasteBitMaskRed into Image : 0.025229\n",
            "gmd_5_frame62_jpg.rf.32d797d04082909cc03e5ccea71ffc53.jpg\n",
            "Time PasteBitMaskRed into Image : 0.026584\n",
            "mgd_varying_frame61_jpg.rf.1b14cc795d2a89a21e91bc69faf88dce.jpg\n",
            "Time PasteBitMaskRed into Image : 0.028036\n",
            "gmd_2_frame54_jpg.rf.c57f4266d3ce8b9bdb37eb7ad663617a.jpg\n",
            "Time PasteBitMaskRed into Image : 0.029258\n",
            "gmd_2_frame11_jpg.rf.a08c02eba5aba8a2b34e2f20f02746cc.jpg\n",
            "Time PasteBitMaskRed into Image : 0.030385\n",
            "youtube_frame181_jpg.rf.c8d6011f14df3e927f84ebdfa8be4e03.jpg\n",
            "Time PasteBitMaskRed into Image : 0.031442\n",
            "gmd_2_frame37_jpg.rf.5baed1bcc40f6e52f503769bef85bde5.jpg\n",
            "Time PasteBitMaskRed into Image : 0.032475\n",
            "mgd_custom_frame1861_jpg.rf.e125b9c4d70c08e20dc37ba916b374e8.jpg\n",
            "Time PasteBitMaskRed into Image : 0.033728\n"
          ]
        }
      ]
    },
    {
      "cell_type": "markdown",
      "metadata": {
        "id": "pCUwL97du0fR"
      },
      "source": [
        "## Compresion Archivos"
      ]
    },
    {
      "cell_type": "code",
      "execution_count": null,
      "metadata": {
        "id": "YMOXgN2juvY5"
      },
      "outputs": [],
      "source": [
        "!rm -rf segmented-body-parts-gun-rdn.tar.gz\n",
        "!tar -czvf segmented-body-parts-gun-rdn.tar.gz \"./segmented-body-parts-gun-rdn\""
      ]
    },
    {
      "cell_type": "markdown",
      "metadata": {
        "id": "JImN2Wc8L9Pa"
      },
      "source": [
        "## Super Resolicon RDN"
      ]
    },
    {
      "cell_type": "markdown",
      "metadata": {
        "id": "jGoBnhe4Mczx"
      },
      "source": [
        "## Creacion proyecto"
      ]
    },
    {
      "cell_type": "code",
      "execution_count": null,
      "metadata": {
        "id": "OWySYUmAMcAh"
      },
      "outputs": [],
      "source": [
        "!rm -rf body-pix-rrdn\n",
        "!mkdir body-pix-rrdn\n",
        "!mkdir \"body-pix-rrdn/person\"\n",
        "!mkdir \"body-pix-rrdn/person/output-mask\"\n",
        "!mkdir \"body-pix-rrdn/person/output-colored-mask\"\n",
        "!mkdir \"body-pix-rrdn/person/output-poses\""
      ]
    },
    {
      "cell_type": "markdown",
      "metadata": {
        "id": "cg8kk37pMOIa"
      },
      "source": [
        "## Creacion Pipeline Super Resolucion RDN"
      ]
    },
    {
      "cell_type": "code",
      "execution_count": null,
      "metadata": {
        "id": "WigzEmJ4MF6K"
      },
      "outputs": [],
      "source": [
        "sourcePathMask = os.path.join(mainPath,\"super-resolution-rdn/person\")\n",
        "outputPathMask = os.path.join(mainPath,\"body-pix/person\")\n",
        "bodyPix = BodyPix(sourcePathMask,outputPathMask)\n",
        "bodyPix.processImages()"
      ]
    },
    {
      "cell_type": "code",
      "execution_count": null,
      "metadata": {
        "id": "89ePE6kpMWlO"
      },
      "outputs": [],
      "source": [
        "!rm -rf super-resolution-rdn.tar.gz\n",
        "!tar -czvf super-resolution-rdn.tar.gz \"./super-resolution-rdn/person\""
      ]
    },
    {
      "cell_type": "markdown",
      "metadata": {
        "id": "GgEjFp8pu6s3"
      },
      "source": [
        "## Cargar en drive resultados"
      ]
    },
    {
      "cell_type": "code",
      "execution_count": null,
      "metadata": {
        "id": "ne-KMDrhvDwX"
      },
      "outputs": [],
      "source": [
        "import os\n",
        "from google.colab import drive\n",
        "ROOT_FOLDER='/content/'\n",
        "ROOT_DRIVE_FOLDER=ROOT_FOLDER+'drive/'\n",
        "drive.mount(ROOT_DRIVE_FOLDER)"
      ]
    },
    {
      "cell_type": "code",
      "execution_count": null,
      "metadata": {
        "id": "zKKG66QLve2Y"
      },
      "outputs": [],
      "source": [
        "!cp --suffix=_v_$(date +\"%y-%m-%d--%T\")  ./super-resolution-esrgan-personas-armadas.tar.gz /content/drive/MyDrive/tmf-person-data/data_set_processed/personas-armadas-detectadas"
      ]
    },
    {
      "cell_type": "code",
      "execution_count": null,
      "metadata": {
        "id": "Z-6Y8BGEMsfN"
      },
      "outputs": [],
      "source": [
        "!cp --suffix=_v_$(date +\"%y-%m-%d--%T\")  ./super-resolution-rdn.tar.gz /content/drive/MyDrive/tmf-person-data/data_set_processed/personas-armadas-detectadas"
      ]
    }
  ],
  "metadata": {
    "colab": {
      "machine_shape": "hm",
      "provenance": []
    },
    "gpuClass": "standard",
    "kernelspec": {
      "display_name": "Python 3",
      "name": "python3"
    },
    "language_info": {
      "name": "python"
    },
    "accelerator": "GPU"
  },
  "nbformat": 4,
  "nbformat_minor": 0
}